{
 "cells": [
  {
   "cell_type": "markdown",
   "id": "eccf3dfc-85f7-4f1b-bfe4-c37675b00211",
   "metadata": {},
   "source": [
    "## Model Finetuning and Evaluation for Fake News Finetuning"
   ]
  },
  {
   "cell_type": "code",
   "execution_count": 1,
   "id": "5c6fbb9e-c737-4679-9a04-f6ec15f76779",
   "metadata": {},
   "outputs": [
    {
     "name": "stdout",
     "output_type": "stream",
     "text": [
      "Fri Jun 21 17:34:05 2024       \n",
      "+-----------------------------------------------------------------------------+\n",
      "| NVIDIA-SMI 525.125.06   Driver Version: 525.125.06   CUDA Version: 12.0     |\n",
      "|-------------------------------+----------------------+----------------------+\n",
      "| GPU  Name        Persistence-M| Bus-Id        Disp.A | Volatile Uncorr. ECC |\n",
      "| Fan  Temp  Perf  Pwr:Usage/Cap|         Memory-Usage | GPU-Util  Compute M. |\n",
      "|                               |                      |               MIG M. |\n",
      "|===============================+======================+======================|\n",
      "|   0  NVIDIA GeForce ...  Off  | 00000000:4B:00.0 Off |                  N/A |\n",
      "| 27%   36C    P8    15W / 250W |      3MiB / 11264MiB |      0%      Default |\n",
      "|                               |                      |                  N/A |\n",
      "+-------------------------------+----------------------+----------------------+\n",
      "                                                                               \n",
      "+-----------------------------------------------------------------------------+\n",
      "| Processes:                                                                  |\n",
      "|  GPU   GI   CI        PID   Type   Process name                  GPU Memory |\n",
      "|        ID   ID                                                   Usage      |\n",
      "|=============================================================================|\n",
      "|  No running processes found                                                 |\n",
      "+-----------------------------------------------------------------------------+\n"
     ]
    }
   ],
   "source": [
    "!nvidia-smi"
   ]
  },
  {
   "cell_type": "markdown",
   "id": "da5fa728-ef44-4290-8806-92543c4240b7",
   "metadata": {},
   "source": [
    "#### Install"
   ]
  },
  {
   "cell_type": "code",
   "execution_count": 26,
   "id": "f4b1d180-e4c5-4141-9b04-53aa10fa62ea",
   "metadata": {},
   "outputs": [],
   "source": [
    "#!pip install accelerate -U\n",
    "#!pip install datasets\n",
    "#!pip install transformers\n",
    "#!pip install nltk\n",
    "#!pip install flair\n",
    "#!pip install umap-learn\n",
    "#!pip install umap-learn"
   ]
  },
  {
   "cell_type": "markdown",
   "id": "778374a8-789d-4505-99d0-34c2f96d216d",
   "metadata": {},
   "source": [
    "#### Imports"
   ]
  },
  {
   "cell_type": "code",
   "execution_count": 5,
   "id": "2f807ac1-6739-434f-bc6d-49a3391bb461",
   "metadata": {},
   "outputs": [],
   "source": [
    "import pandas as pd\n",
    "from datasets import Dataset\n",
    "from sklearn.model_selection import train_test_split\n",
    "from datasets import load_dataset, Dataset, DatasetDict\n",
    "from transformers import pipeline\n",
    "from transformers import Trainer, TrainingArguments\n",
    "from transformers import AutoTokenizer, DataCollatorWithPadding\n",
    "from transformers import AutoModelForSequenceClassification\n",
    "from sklearn.metrics import accuracy_score, f1_score, precision_score, recall_score\n",
    "import pandas as pd\n",
    "from sklearn.model_selection import train_test_split\n",
    "from bs4 import BeautifulSoup\n",
    "from transformers import TrainingArguments\n",
    "import seaborn as sns\n",
    "from sklearn.ensemble import RandomForestClassifier\n",
    "from flair.data import Sentence\n",
    "from flair.models import SequenceTagger\n",
    "from flair.embeddings import WordEmbeddings, FlairEmbeddings, StackedEmbeddings, DocumentPoolEmbeddings, BytePairEmbeddings\n",
    "from sklearn.model_selection import cross_validate\n",
    "from sklearn.metrics import matthews_corrcoef, f1_score, recall_score, precision_score, make_scorer\n",
    "import pandas as pd\n",
    "import numpy as np\n",
    "import nltk\n",
    "from nltk.corpus import stopwords\n",
    "from bs4 import BeautifulSoup\n",
    "from statistics import mean"
   ]
  },
  {
   "cell_type": "markdown",
   "id": "3bb4f9e5-386d-4885-914c-6aa32e38435a",
   "metadata": {},
   "source": [
    "#### Import Dataset\n",
    "\n",
    "- We are using the following Dataset:\n",
    " - https://www.unb.ca/cic/datasets/truthseeker-2023.html\n",
    "\n",
    "This Dataset provides us Data from to different sources. Therefore we combine those Data to one Dataset.\n",
    "We ensure to have only individuals by removing duplicates"
   ]
  },
  {
   "cell_type": "code",
   "execution_count": 38,
   "id": "005f2f0d-a394-4e74-b784-b0c89de70d86",
   "metadata": {},
   "outputs": [],
   "source": [
    "dataset = pd.read_csv(\"Truth_Seeker_Model_Dataset.csv\")"
   ]
  },
  {
   "cell_type": "code",
   "execution_count": 39,
   "id": "84187f7f-a8a2-4743-94f5-29550ddb5a9e",
   "metadata": {},
   "outputs": [
    {
     "name": "stdout",
     "output_type": "stream",
     "text": [
      "Length Dataset: 134198\n"
     ]
    }
   ],
   "source": [
    "print(f\"Length Dataset: {len(dataset)}\")"
   ]
  },
  {
   "cell_type": "code",
   "execution_count": 40,
   "id": "6c4098c6-4bd8-4ed5-b381-1a56c6e1c11a",
   "metadata": {},
   "outputs": [
    {
     "name": "stdout",
     "output_type": "stream",
     "text": [
      "   Unnamed: 0      author                                          statement  \\\n",
      "0           0  D.L. Davis  End of eviction moratorium means millions of A...   \n",
      "1           1  D.L. Davis  End of eviction moratorium means millions of A...   \n",
      "2           2  D.L. Davis  End of eviction moratorium means millions of A...   \n",
      "3           3  D.L. Davis  End of eviction moratorium means millions of A...   \n",
      "4           4  D.L. Davis  End of eviction moratorium means millions of A...   \n",
      "\n",
      "   target  BinaryNumTarget                 manual_keywords  \\\n",
      "0    True              1.0  Americans, eviction moratorium   \n",
      "1    True              1.0  Americans, eviction moratorium   \n",
      "2    True              1.0  Americans, eviction moratorium   \n",
      "3    True              1.0  Americans, eviction moratorium   \n",
      "4    True              1.0  Americans, eviction moratorium   \n",
      "\n",
      "                                               tweet 5_label_majority_answer  \\\n",
      "0  @POTUS Biden Blunders - 6 Month Update\\n\\nInfl...            Mostly Agree   \n",
      "1  @S0SickRick @Stairmaster_ @6d6f636869 Not as m...             NO MAJORITY   \n",
      "2  THE SUPREME COURT is siding with super rich pr...                   Agree   \n",
      "3  @POTUS Biden Blunders\\n\\nBroken campaign promi...            Mostly Agree   \n",
      "4  @OhComfy I agree. The confluence of events rig...                   Agree   \n",
      "\n",
      "  3_label_majority_answer  \n",
      "0                   Agree  \n",
      "1                   Agree  \n",
      "2                   Agree  \n",
      "3                   Agree  \n",
      "4                   Agree  \n"
     ]
    }
   ],
   "source": [
    "print(dataset.head())"
   ]
  },
  {
   "cell_type": "markdown",
   "id": "69f09b7a-52af-4f6e-be04-a8107689e485",
   "metadata": {},
   "source": [
    "### Descriptive Analysis"
   ]
  },
  {
   "cell_type": "code",
   "execution_count": 9,
   "id": "ec3ad247-b5fe-44d9-beaa-f63a706729e3",
   "metadata": {},
   "outputs": [
    {
     "name": "stderr",
     "output_type": "stream",
     "text": [
      "/opt/conda/lib/python3.9/site-packages/seaborn/_decorators.py:36: FutureWarning: Pass the following variable as a keyword arg: x. From version 0.12, the only valid positional argument will be `data`, and passing other arguments without an explicit keyword will result in an error or misinterpretation.\n",
      "  warnings.warn(\n"
     ]
    },
    {
     "data": {
      "text/plain": [
       "<AxesSubplot:xlabel='BinaryNumTarget', ylabel='count'>"
      ]
     },
     "execution_count": 9,
     "metadata": {},
     "output_type": "execute_result"
    },
    {
     "data": {
      "image/png": "[encoded data removed]",
      "text/plain": [
       "<Figure size 432x288 with 1 Axes>"
      ]
     },
     "metadata": {
      "needs_background": "light"
     },
     "output_type": "display_data"
    }
   ],
   "source": [
    "target = dataset['BinaryNumTarget']\n",
    "sns.set_style('whitegrid')\n",
    "sns.countplot(target)"
   ]
  },
  {
   "cell_type": "markdown",
   "id": "e7b912e5-723a-4b15-a872-165525b7b94c",
   "metadata": {},
   "source": [
    "Plot shows Data is mostly balanced. "
   ]
  },
  {
   "cell_type": "markdown",
   "id": "b3e3b5dd-47b2-4383-a2a2-c9ebe5944abd",
   "metadata": {},
   "source": [
    "##### Topic Modelling"
   ]
  },
  {
   "cell_type": "markdown",
   "id": "b912d686-df06-4edb-918d-180c6e62a997",
   "metadata": {},
   "source": [
    "Imports"
   ]
  },
  {
   "cell_type": "code",
   "execution_count": 10,
   "id": "5aa3a10f-a972-45b8-bd22-723a22e3212b",
   "metadata": {},
   "outputs": [
    {
     "name": "stderr",
     "output_type": "stream",
     "text": [
      "[nltk_data] Downloading package stopwords to /home/jovyan/nltk_data...\n",
      "[nltk_data]   Package stopwords is already up-to-date!\n"
     ]
    },
    {
     "data": {
      "text/plain": [
       "True"
      ]
     },
     "execution_count": 10,
     "metadata": {},
     "output_type": "execute_result"
    }
   ],
   "source": [
    "import pandas as pd\n",
    "from sklearn.feature_extraction.text import CountVectorizer, TfidfVectorizer\n",
    "from sklearn.decomposition import LatentDirichletAllocation\n",
    "import nltk\n",
    "from nltk.corpus import stopwords\n",
    "import re\n",
    "nltk.download('stopwords')\n"
   ]
  },
  {
   "cell_type": "markdown",
   "id": "5a275d23-3e07-44e6-8831-b34fe96777b5",
   "metadata": {},
   "source": [
    "Create Data frame for Fake News"
   ]
  },
  {
   "cell_type": "code",
   "execution_count": 21,
   "id": "2e0143a8-8388-4442-a481-29c90be36692",
   "metadata": {},
   "outputs": [],
   "source": [
    "df = pd.DataFrame()\n",
    "df['text'] = dataset[dataset['BinaryNumTarget'] == 1.0]['tweet']"
   ]
  },
  {
   "cell_type": "code",
   "execution_count": 22,
   "id": "94958117-2e23-4487-8b2c-666b7df09654",
   "metadata": {},
   "outputs": [
    {
     "data": {
      "text/plain": [
       "68930"
      ]
     },
     "execution_count": 22,
     "metadata": {},
     "output_type": "execute_result"
    }
   ],
   "source": [
    "len(df['text'])"
   ]
  },
  {
   "cell_type": "markdown",
   "id": "a3e78440-77c9-40c3-8ed6-a6ce2a53f32f",
   "metadata": {},
   "source": [
    "Stop Word Reduction"
   ]
  },
  {
   "cell_type": "code",
   "execution_count": 23,
   "id": "73190c97-8421-4808-bf28-bbbcbc77372e",
   "metadata": {},
   "outputs": [],
   "source": [
    "stop_words = set(stopwords.words('english'))\n",
    "\n",
    "def preprocess(text):\n",
    "    text = re.sub(r'\\W+', ' ', text)\n",
    "    tokens = [word for word in text.lower().split() if word not in stop_words]\n",
    "    return ' '.join(tokens)\n",
    "\n",
    "df['processed_text'] = df['text'].apply(preprocess)"
   ]
  },
  {
   "cell_type": "markdown",
   "id": "819e440e-b88b-4c86-8790-3e7bfbe191f6",
   "metadata": {},
   "source": [
    "### Topic Modelling Model Training"
   ]
  },
  {
   "cell_type": "code",
   "execution_count": 24,
   "id": "b2e0dbf5-6485-464f-9b38-4d0e2027e15f",
   "metadata": {},
   "outputs": [],
   "source": [
    "vectorizer = TfidfVectorizer()\n",
    "X_tfidf = vectorizer.fit_transform(df['processed_text'])"
   ]
  },
  {
   "cell_type": "code",
   "execution_count": 25,
   "id": "357b0216-a479-4acc-bd31-873d6418ecd9",
   "metadata": {},
   "outputs": [
    {
     "data": {
      "text/html": [
       "<style>#sk-container-id-1 {color: black;background-color: white;}#sk-container-id-1 pre{padding: 0;}#sk-container-id-1 div.sk-toggleable {background-color: white;}#sk-container-id-1 label.sk-toggleable__label {cursor: pointer;display: block;width: 100%;margin-bottom: 0;padding: 0.3em;box-sizing: border-box;text-align: center;}#sk-container-id-1 label.sk-toggleable__label-arrow:before {content: \"▸\";float: left;margin-right: 0.25em;color: #696969;}#sk-container-id-1 label.sk-toggleable__label-arrow:hover:before {color: black;}#sk-container-id-1 div.sk-estimator:hover label.sk-toggleable__label-arrow:before {color: black;}#sk-container-id-1 div.sk-toggleable__content {max-height: 0;max-width: 0;overflow: hidden;text-align: left;background-color: #f0f8ff;}#sk-container-id-1 div.sk-toggleable__content pre {margin: 0.2em;color: black;border-radius: 0.25em;background-color: #f0f8ff;}#sk-container-id-1 input.sk-toggleable__control:checked~div.sk-toggleable__content {max-height: 200px;max-width: 100%;overflow: auto;}#sk-container-id-1 input.sk-toggleable__control:checked~label.sk-toggleable__label-arrow:before {content: \"▾\";}#sk-container-id-1 div.sk-estimator input.sk-toggleable__control:checked~label.sk-toggleable__label {background-color: #d4ebff;}#sk-container-id-1 div.sk-label input.sk-toggleable__control:checked~label.sk-toggleable__label {background-color: #d4ebff;}#sk-container-id-1 input.sk-hidden--visually {border: 0;clip: rect(1px 1px 1px 1px);clip: rect(1px, 1px, 1px, 1px);height: 1px;margin: -1px;overflow: hidden;padding: 0;position: absolute;width: 1px;}#sk-container-id-1 div.sk-estimator {font-family: monospace;background-color: #f0f8ff;border: 1px dotted black;border-radius: 0.25em;box-sizing: border-box;margin-bottom: 0.5em;}#sk-container-id-1 div.sk-estimator:hover {background-color: #d4ebff;}#sk-container-id-1 div.sk-parallel-item::after {content: \"\";width: 100%;border-bottom: 1px solid gray;flex-grow: 1;}#sk-container-id-1 div.sk-label:hover label.sk-toggleable__label {background-color: #d4ebff;}#sk-container-id-1 div.sk-serial::before {content: \"\";position: absolute;border-left: 1px solid gray;box-sizing: border-box;top: 0;bottom: 0;left: 50%;z-index: 0;}#sk-container-id-1 div.sk-serial {display: flex;flex-direction: column;align-items: center;background-color: white;padding-right: 0.2em;padding-left: 0.2em;position: relative;}#sk-container-id-1 div.sk-item {position: relative;z-index: 1;}#sk-container-id-1 div.sk-parallel {display: flex;align-items: stretch;justify-content: center;background-color: white;position: relative;}#sk-container-id-1 div.sk-item::before, #sk-container-id-1 div.sk-parallel-item::before {content: \"\";position: absolute;border-left: 1px solid gray;box-sizing: border-box;top: 0;bottom: 0;left: 50%;z-index: -1;}#sk-container-id-1 div.sk-parallel-item {display: flex;flex-direction: column;z-index: 1;position: relative;background-color: white;}#sk-container-id-1 div.sk-parallel-item:first-child::after {align-self: flex-end;width: 50%;}#sk-container-id-1 div.sk-parallel-item:last-child::after {align-self: flex-start;width: 50%;}#sk-container-id-1 div.sk-parallel-item:only-child::after {width: 0;}#sk-container-id-1 div.sk-dashed-wrapped {border: 1px dashed gray;margin: 0 0.4em 0.5em 0.4em;box-sizing: border-box;padding-bottom: 0.4em;background-color: white;}#sk-container-id-1 div.sk-label label {font-family: monospace;font-weight: bold;display: inline-block;line-height: 1.2em;}#sk-container-id-1 div.sk-label-container {text-align: center;}#sk-container-id-1 div.sk-container {/* jupyter's `normalize.less` sets `[hidden] { display: none; }` but bootstrap.min.css set `[hidden] { display: none !important; }` so we also need the `!important` here to be able to override the default hidden behavior on the sphinx rendered scikit-learn.org. See: https://github.com/scikit-learn/scikit-learn/issues/21755 */display: inline-block !important;position: relative;}#sk-container-id-1 div.sk-text-repr-fallback {display: none;}</style><div id=\"sk-container-id-1\" class=\"sk-top-container\"><div class=\"sk-text-repr-fallback\"><pre>LatentDirichletAllocation(n_components=3, random_state=42)</pre><b>In a Jupyter environment, please rerun this cell to show the HTML representation or trust the notebook. <br />On GitHub, the HTML representation is unable to render, please try loading this page with nbviewer.org.</b></div><div class=\"sk-container\" hidden><div class=\"sk-item\"><div class=\"sk-estimator sk-toggleable\"><input class=\"sk-toggleable__control sk-hidden--visually\" id=\"sk-estimator-id-1\" type=\"checkbox\" checked><label for=\"sk-estimator-id-1\" class=\"sk-toggleable__label sk-toggleable__label-arrow\">LatentDirichletAllocation</label><div class=\"sk-toggleable__content\"><pre>LatentDirichletAllocation(n_components=3, random_state=42)</pre></div></div></div></div></div>"
      ],
      "text/plain": [
       "LatentDirichletAllocation(n_components=3, random_state=42)"
      ]
     },
     "execution_count": 25,
     "metadata": {},
     "output_type": "execute_result"
    }
   ],
   "source": [
    "lda = LatentDirichletAllocation(n_components=3, random_state=42)\n",
    "lda.fit(X_tfidf)"
   ]
  },
  {
   "cell_type": "code",
   "execution_count": 35,
   "id": "9c2fe097-f595-408d-a174-ddd6d51a4b86",
   "metadata": {},
   "outputs": [
    {
     "name": "stdout",
     "output_type": "stream",
     "text": [
      "Length DataFrames: 68930\n",
      "Length of the topic assignments: 68930\n",
      "                                                text  topic topic_name\n",
      "0  @POTUS Biden Blunders - 6 Month Update\\n\\nInfl...      1    Topic 2\n",
      "1  @S0SickRick @Stairmaster_ @6d6f636869 Not as m...      1    Topic 2\n",
      "2  THE SUPREME COURT is siding with super rich pr...      0    Topic 1\n",
      "3  @POTUS Biden Blunders\\n\\nBroken campaign promi...      1    Topic 2\n",
      "4  @OhComfy I agree. The confluence of events rig...      1    Topic 2\n"
     ]
    },
    {
     "name": "stderr",
     "output_type": "stream",
     "text": [
      "/opt/conda/lib/python3.9/site-packages/umap/umap_.py:1945: UserWarning: n_jobs value 1 overridden to 1 by setting random_state. Use no seed for parallelism.\n",
      "  warn(f\"n_jobs value {self.n_jobs} overridden to 1 by setting random_state. Use no seed for parallelism.\")\n"
     ]
    },
    {
     "data": {
      "image/png": "[encoded data removed]",
      "text/plain": [
       "<Figure size 864x576 with 2 Axes>"
      ]
     },
     "metadata": {
      "needs_background": "light"
     },
     "output_type": "display_data"
    }
   ],
   "source": [
    "import matplotlib.pyplot as plt\n",
    "import pandas as pd\n",
    "from sklearn.decomposition import TruncatedSVD\n",
    "import seaborn as sns\n",
    "import umap.umap_ as umap\n",
    "\n",
    "\n",
    "topic_assignments = lda.transform(X_tfidf)  \n",
    "\n",
    "print(f\"Length DataFrames: {len(df)}\")\n",
    "print(f\"Length of the topic assignments: {len(topic_assignments)}\")\n",
    "\n",
    "topic_names = [\"Topic 1\", \"Topic 2\", \"Topic 3\", \"Topic 4\", \"Topic 5\"]\n",
    "\n",
    "df['topic'] = topic_assignments.argmax(axis=1)\n",
    "df['topic_name'] = df['topic'].apply(lambda x: topic_names[x])\n",
    "\n",
    "print(df[['text', 'topic', 'topic_name']].head())\n",
    "\n",
    "reducer = umap.UMAP(n_components=2, random_state=0)\n",
    "umap_result = reducer.fit_transform(X_tfidf)\n",
    "\n",
    "df['umap_1'] = umap_result[:, 0]\n",
    "df['umap_2'] = umap_result[:, 1]\n",
    "\n",
    "colors = ['#1f77b4', '#ff7f0e', '#2ca02c', '#d62728', '#9467bd']  \n",
    "\n",
    "plt.figure(figsize=(12, 8))\n",
    "scatter = sns.scatterplot(data=df, x='umap_1', y='umap_2', hue='topic_name', palette='viridis', alpha=0.5, legend=False)\n",
    "\n",
    "handles, labels = scatter.get_legend_handles_labels()\n",
    "plt.legend(handles, topic_names, title='Topics', bbox_to_anchor=(0.5, -0.05), loc='upper center', ncol=5)\n",
    "\n",
    "plt.xlabel('UMAP component 1')\n",
    "plt.ylabel('UMAP component 2')\n",
    "plt.title('Topic Visualisation')\n",
    "plt.colorbar(scatter.collections[0], label='Topic')\n",
    "\n",
    "plt.savefig('plot.png')\n",
    "plt.show()\n",
    "\n"
   ]
  },
  {
   "cell_type": "markdown",
   "id": "c4874e9d-d1ad-4d61-801b-a198590e1972",
   "metadata": {},
   "source": [
    "The graphic as well as the individual topics show that the topics mentioned above are strikingly similar in the fake news and that they are polotic topics. In addition, the topic modelling shows that the majority of fake news can be found in the area of news about prominent politicians. "
   ]
  },
  {
   "cell_type": "markdown",
   "id": "08ca5592-63c5-48c9-a953-a5b45de8cfb8",
   "metadata": {},
   "source": [
    "### Finetuning of the Model"
   ]
  },
  {
   "cell_type": "markdown",
   "id": "bb8c0b6f-e2ba-4ed7-a1cd-fe744cd96f15",
   "metadata": {},
   "source": [
    "Dataset preperation"
   ]
  },
  {
   "cell_type": "code",
   "execution_count": 41,
   "id": "54f31e55-84de-4c83-973f-9e3072b693f9",
   "metadata": {},
   "outputs": [
    {
     "name": "stdout",
     "output_type": "stream",
     "text": [
      "        label                                               text\n",
      "0           1  @POTUS Biden Blunders - 6 Month Update\\n\\nInfl...\n",
      "1           1  @S0SickRick @Stairmaster_ @6d6f636869 Not as m...\n",
      "2           1  THE SUPREME COURT is siding with super rich pr...\n",
      "3           1  @POTUS Biden Blunders\\n\\nBroken campaign promi...\n",
      "4           1  @OhComfy I agree. The confluence of events rig...\n",
      "...       ...                                                ...\n",
      "134193      0  Joe Biden's family owned African slaves....\\n\\...\n",
      "134194      0  Joe Bidens great, great grandfather was a slav...\n",
      "134195      0  @ChevyChaseToGo \"Joe Bidens great-grandfather ...\n",
      "134196      0  @JoeBiden Facts are Bidens VP Kamala Harris Gr...\n",
      "134197      0  @sunny Yes representation matters. Did you kno...\n",
      "\n",
      "[134198 rows x 2 columns]\n"
     ]
    }
   ],
   "source": [
    "dataset = dataset.drop('author', axis=1)\n",
    "dataset = dataset.drop('statement', axis=1)\n",
    "dataset = dataset.drop('target', axis=1)\n",
    "dataset = dataset.drop('manual_keywords', axis=1)\n",
    "dataset = dataset.drop('Unnamed: 0', axis=1)\n",
    "dataset = dataset.drop('5_label_majority_answer', axis=1)\n",
    "dataset = dataset.drop('3_label_majority_answer', axis=1)\n",
    "dataset.rename(columns={'tweet': 'text'}, inplace=True)\n",
    "dataset.rename(columns={'BinaryNumTarget': 'label'}, inplace=True)\n",
    "dataset['label'] = dataset['label'].astype(int)\n",
    "\n",
    "print(dataset)"
   ]
  },
  {
   "cell_type": "code",
   "execution_count": 42,
   "id": "7425c9a5-271d-442c-bf32-3eeddb499886",
   "metadata": {},
   "outputs": [],
   "source": [
    "train_val_df, test_df = train_test_split(dataset, test_size=0.1, random_state=42)\n",
    "train_df, val_df = train_test_split(train_val_df, test_size=0.1, random_state=42)\n",
    "\n",
    "# Convert back to Dataset objects\n",
    "train_dataset = Dataset.from_pandas(train_df).remove_columns('__index_level_0__')\n",
    "val_dataset = Dataset.from_pandas(val_df).remove_columns('__index_level_0__')\n",
    "test_dataset = Dataset.from_pandas(test_df).remove_columns('__index_level_0__')\n",
    "Fake_News_dataset_dict = DatasetDict({\"train\": train_dataset, \"val\": val_dataset, \"test\": test_dataset})"
   ]
  },
  {
   "cell_type": "code",
   "execution_count": 43,
   "id": "3dd03467-f7f1-43f4-80c0-83577978b84b",
   "metadata": {},
   "outputs": [
    {
     "data": {
      "text/plain": [
       "DatasetDict({\n",
       "    train: Dataset({\n",
       "        features: ['label', 'text'],\n",
       "        num_rows: 108700\n",
       "    })\n",
       "    val: Dataset({\n",
       "        features: ['label', 'text'],\n",
       "        num_rows: 12078\n",
       "    })\n",
       "    test: Dataset({\n",
       "        features: ['label', 'text'],\n",
       "        num_rows: 13420\n",
       "    })\n",
       "})"
      ]
     },
     "execution_count": 43,
     "metadata": {},
     "output_type": "execute_result"
    }
   ],
   "source": [
    "Fake_News_dataset_dict"
   ]
  },
  {
   "cell_type": "markdown",
   "id": "f5fad903-3ca1-47ca-a60f-d7c7f97930c1",
   "metadata": {},
   "source": [
    "#### First Model"
   ]
  },
  {
   "cell_type": "markdown",
   "id": "82cf4c5e-6849-4949-ac03-0e2b2c66bf80",
   "metadata": {},
   "source": [
    "We are using:\n",
    "Distilbert as first Model:\n",
    "- https://huggingface.co/distilbert/distilbert-base-uncased-finetuned-sst-2-english"
   ]
  },
  {
   "cell_type": "markdown",
   "id": "c41d22cd-315f-49e7-825e-47a790a13230",
   "metadata": {},
   "source": [
    "Tokenize"
   ]
  },
  {
   "cell_type": "code",
   "execution_count": 63,
   "id": "00d10078-39a7-47a3-911b-b18ac541e7cf",
   "metadata": {},
   "outputs": [
    {
     "name": "stderr",
     "output_type": "stream",
     "text": [
      "loading configuration file config.json from cache at /home/jovyan/.cache/huggingface/hub/models--distilbert--distilbert-base-uncased-finetuned-sst-2-english/snapshots/714eb0fa89d2f80546fda750413ed43d93601a13/config.json\n",
      "Model config DistilBertConfig {\n",
      "  \"_name_or_path\": \"distilbert/distilbert-base-uncased-finetuned-sst-2-english\",\n",
      "  \"activation\": \"gelu\",\n",
      "  \"architectures\": [\n",
      "    \"DistilBertForSequenceClassification\"\n",
      "  ],\n",
      "  \"attention_dropout\": 0.1,\n",
      "  \"dim\": 768,\n",
      "  \"dropout\": 0.1,\n",
      "  \"finetuning_task\": \"sst-2\",\n",
      "  \"hidden_dim\": 3072,\n",
      "  \"id2label\": {\n",
      "    \"0\": \"NEGATIVE\",\n",
      "    \"1\": \"POSITIVE\"\n",
      "  },\n",
      "  \"initializer_range\": 0.02,\n",
      "  \"label2id\": {\n",
      "    \"NEGATIVE\": 0,\n",
      "    \"POSITIVE\": 1\n",
      "  },\n",
      "  \"max_position_embeddings\": 512,\n",
      "  \"model_type\": \"distilbert\",\n",
      "  \"n_heads\": 12,\n",
      "  \"n_layers\": 6,\n",
      "  \"output_past\": true,\n",
      "  \"pad_token_id\": 0,\n",
      "  \"qa_dropout\": 0.1,\n",
      "  \"seq_classif_dropout\": 0.2,\n",
      "  \"sinusoidal_pos_embds\": false,\n",
      "  \"tie_weights_\": true,\n",
      "  \"transformers_version\": \"4.41.2\",\n",
      "  \"vocab_size\": 30522\n",
      "}\n",
      "\n",
      "loading file vocab.txt from cache at /home/jovyan/.cache/huggingface/hub/models--distilbert--distilbert-base-uncased-finetuned-sst-2-english/snapshots/714eb0fa89d2f80546fda750413ed43d93601a13/vocab.txt\n",
      "loading file tokenizer.json from cache at None\n",
      "loading file added_tokens.json from cache at None\n",
      "loading file special_tokens_map.json from cache at None\n",
      "loading file tokenizer_config.json from cache at /home/jovyan/.cache/huggingface/hub/models--distilbert--distilbert-base-uncased-finetuned-sst-2-english/snapshots/714eb0fa89d2f80546fda750413ed43d93601a13/tokenizer_config.json\n",
      "loading configuration file config.json from cache at /home/jovyan/.cache/huggingface/hub/models--distilbert--distilbert-base-uncased-finetuned-sst-2-english/snapshots/714eb0fa89d2f80546fda750413ed43d93601a13/config.json\n",
      "Model config DistilBertConfig {\n",
      "  \"_name_or_path\": \"distilbert/distilbert-base-uncased-finetuned-sst-2-english\",\n",
      "  \"activation\": \"gelu\",\n",
      "  \"architectures\": [\n",
      "    \"DistilBertForSequenceClassification\"\n",
      "  ],\n",
      "  \"attention_dropout\": 0.1,\n",
      "  \"dim\": 768,\n",
      "  \"dropout\": 0.1,\n",
      "  \"finetuning_task\": \"sst-2\",\n",
      "  \"hidden_dim\": 3072,\n",
      "  \"id2label\": {\n",
      "    \"0\": \"NEGATIVE\",\n",
      "    \"1\": \"POSITIVE\"\n",
      "  },\n",
      "  \"initializer_range\": 0.02,\n",
      "  \"label2id\": {\n",
      "    \"NEGATIVE\": 0,\n",
      "    \"POSITIVE\": 1\n",
      "  },\n",
      "  \"max_position_embeddings\": 512,\n",
      "  \"model_type\": \"distilbert\",\n",
      "  \"n_heads\": 12,\n",
      "  \"n_layers\": 6,\n",
      "  \"output_past\": true,\n",
      "  \"pad_token_id\": 0,\n",
      "  \"qa_dropout\": 0.1,\n",
      "  \"seq_classif_dropout\": 0.2,\n",
      "  \"sinusoidal_pos_embds\": false,\n",
      "  \"tie_weights_\": true,\n",
      "  \"transformers_version\": \"4.41.2\",\n",
      "  \"vocab_size\": 30522\n",
      "}\n",
      "\n",
      "loading configuration file config.json from cache at /home/jovyan/.cache/huggingface/hub/models--distilbert--distilbert-base-uncased-finetuned-sst-2-english/snapshots/714eb0fa89d2f80546fda750413ed43d93601a13/config.json\n",
      "Model config DistilBertConfig {\n",
      "  \"_name_or_path\": \"distilbert/distilbert-base-uncased-finetuned-sst-2-english\",\n",
      "  \"activation\": \"gelu\",\n",
      "  \"architectures\": [\n",
      "    \"DistilBertForSequenceClassification\"\n",
      "  ],\n",
      "  \"attention_dropout\": 0.1,\n",
      "  \"dim\": 768,\n",
      "  \"dropout\": 0.1,\n",
      "  \"finetuning_task\": \"sst-2\",\n",
      "  \"hidden_dim\": 3072,\n",
      "  \"id2label\": {\n",
      "    \"0\": \"NEGATIVE\",\n",
      "    \"1\": \"POSITIVE\"\n",
      "  },\n",
      "  \"initializer_range\": 0.02,\n",
      "  \"label2id\": {\n",
      "    \"NEGATIVE\": 0,\n",
      "    \"POSITIVE\": 1\n",
      "  },\n",
      "  \"max_position_embeddings\": 512,\n",
      "  \"model_type\": \"distilbert\",\n",
      "  \"n_heads\": 12,\n",
      "  \"n_layers\": 6,\n",
      "  \"output_past\": true,\n",
      "  \"pad_token_id\": 0,\n",
      "  \"qa_dropout\": 0.1,\n",
      "  \"seq_classif_dropout\": 0.2,\n",
      "  \"sinusoidal_pos_embds\": false,\n",
      "  \"tie_weights_\": true,\n",
      "  \"transformers_version\": \"4.41.2\",\n",
      "  \"vocab_size\": 30522\n",
      "}\n",
      "\n"
     ]
    }
   ],
   "source": [
    "DISTIL_BERT = \"distilbert/distilbert-base-uncased-finetuned-sst-2-english\"\n",
    "\n",
    "def tokenizer(checkpoint):\n",
    "    return AutoTokenizer.from_pretrained(checkpoint)\n",
    "\n",
    "tokenizer_Bert = tokenizer(DISTIL_BERT)"
   ]
  },
  {
   "cell_type": "code",
   "execution_count": 64,
   "id": "622b7b23-4729-4223-84a5-d51b75f43a3a",
   "metadata": {},
   "outputs": [],
   "source": [
    "def tokenize_function(batch, tokenizer):\n",
    "  return tokenizer(batch[\"text\"], truncation=True)"
   ]
  },
  {
   "cell_type": "code",
   "execution_count": 65,
   "id": "8b779b32-b1b8-47f0-a53b-ef990440e074",
   "metadata": {},
   "outputs": [
    {
     "data": {
      "application/vnd.jupyter.widget-view+json": {
       "model_id": "9ef5959ae85b4332b8a210a3a6b0d239",
       "version_major": 2,
       "version_minor": 0
      },
      "text/plain": [
       "Map:   0%|          | 0/108700 [00:00<?, ? examples/s]"
      ]
     },
     "metadata": {},
     "output_type": "display_data"
    },
    {
     "data": {
      "application/vnd.jupyter.widget-view+json": {
       "model_id": "d0370001187f4f87a0b7e62d456fd40e",
       "version_major": 2,
       "version_minor": 0
      },
      "text/plain": [
       "Map:   0%|          | 0/12078 [00:00<?, ? examples/s]"
      ]
     },
     "metadata": {},
     "output_type": "display_data"
    },
    {
     "data": {
      "application/vnd.jupyter.widget-view+json": {
       "model_id": "ab6781a105db43e0b21f9a0f527f10c7",
       "version_major": 2,
       "version_minor": 0
      },
      "text/plain": [
       "Map:   0%|          | 0/13420 [00:00<?, ? examples/s]"
      ]
     },
     "metadata": {},
     "output_type": "display_data"
    }
   ],
   "source": [
    "tokenized_datasets_bert = Fake_News_dataset_dict.map(\n",
    "    lambda batch: tokenize_function(batch, tokenizer_Bert),\n",
    "    batched=True\n",
    ")"
   ]
  },
  {
   "cell_type": "markdown",
   "id": "de9f1405-9a6a-4fda-8921-5a63dbf29dcc",
   "metadata": {},
   "source": [
    "Data Collator"
   ]
  },
  {
   "cell_type": "code",
   "execution_count": 66,
   "id": "57e76d7f-a58e-4c71-a636-c84aee7d5f4f",
   "metadata": {},
   "outputs": [],
   "source": [
    "data_collator_bert = DataCollatorWithPadding(tokenizer=tokenizer_Bert, return_tensors=\"pt\")"
   ]
  },
  {
   "cell_type": "code",
   "execution_count": 67,
   "id": "97064d34-66da-4a9c-b485-3f200dbd8d66",
   "metadata": {},
   "outputs": [
    {
     "name": "stderr",
     "output_type": "stream",
     "text": [
      "loading configuration file config.json from cache at /home/jovyan/.cache/huggingface/hub/models--distilbert--distilbert-base-uncased-finetuned-sst-2-english/snapshots/714eb0fa89d2f80546fda750413ed43d93601a13/config.json\n",
      "Model config DistilBertConfig {\n",
      "  \"_name_or_path\": \"distilbert/distilbert-base-uncased-finetuned-sst-2-english\",\n",
      "  \"activation\": \"gelu\",\n",
      "  \"architectures\": [\n",
      "    \"DistilBertForSequenceClassification\"\n",
      "  ],\n",
      "  \"attention_dropout\": 0.1,\n",
      "  \"dim\": 768,\n",
      "  \"dropout\": 0.1,\n",
      "  \"finetuning_task\": \"sst-2\",\n",
      "  \"hidden_dim\": 3072,\n",
      "  \"id2label\": {\n",
      "    \"0\": \"NEGATIVE\",\n",
      "    \"1\": \"POSITIVE\"\n",
      "  },\n",
      "  \"initializer_range\": 0.02,\n",
      "  \"label2id\": {\n",
      "    \"NEGATIVE\": 0,\n",
      "    \"POSITIVE\": 1\n",
      "  },\n",
      "  \"max_position_embeddings\": 512,\n",
      "  \"model_type\": \"distilbert\",\n",
      "  \"n_heads\": 12,\n",
      "  \"n_layers\": 6,\n",
      "  \"output_past\": true,\n",
      "  \"pad_token_id\": 0,\n",
      "  \"qa_dropout\": 0.1,\n",
      "  \"seq_classif_dropout\": 0.2,\n",
      "  \"sinusoidal_pos_embds\": false,\n",
      "  \"tie_weights_\": true,\n",
      "  \"transformers_version\": \"4.41.2\",\n",
      "  \"vocab_size\": 30522\n",
      "}\n",
      "\n",
      "loading weights file model.safetensors from cache at /home/jovyan/.cache/huggingface/hub/models--distilbert--distilbert-base-uncased-finetuned-sst-2-english/snapshots/714eb0fa89d2f80546fda750413ed43d93601a13/model.safetensors\n",
      "All model checkpoint weights were used when initializing DistilBertForSequenceClassification.\n",
      "\n",
      "All the weights of DistilBertForSequenceClassification were initialized from the model checkpoint at distilbert/distilbert-base-uncased-finetuned-sst-2-english.\n",
      "If your task is similar to the task the model of the checkpoint was trained on, you can already use DistilBertForSequenceClassification for predictions without further training.\n"
     ]
    }
   ],
   "source": [
    "model_bert = AutoModelForSequenceClassification.from_pretrained(DISTIL_BERT, num_labels=2)"
   ]
  },
  {
   "cell_type": "markdown",
   "id": "60bdef64-19fa-4df5-b177-70ae8ebab977",
   "metadata": {},
   "source": [
    "Metrics"
   ]
  },
  {
   "cell_type": "code",
   "execution_count": 68,
   "id": "766e532b-4f54-4abd-b9c4-ed49e29cc500",
   "metadata": {},
   "outputs": [],
   "source": [
    "from transformers import TrainerCallback, TrainerState, TrainerControl\n",
    "\n",
    "def compute_metrics(pred):\n",
    "  labels = pred.label_ids\n",
    "  preds = pred.predictions.argmax(-1)\n",
    "  f1 = f1_score(labels, preds, average=\"macro\")\n",
    "  acc = accuracy_score(labels, preds)\n",
    "  precision = precision_score(labels, preds, average=\"macro\")\n",
    "  recall = recall_score(labels, preds, average=\"macro\")\n",
    "  return {\"precision\": precision, \"recall\": recall, \"acc\": acc, \"f1\": f1}\n"
   ]
  },
  {
   "cell_type": "code",
   "execution_count": 69,
   "id": "3b4d7150-e4be-4745-9cf0-fad01ee26f7e",
   "metadata": {},
   "outputs": [
    {
     "name": "stderr",
     "output_type": "stream",
     "text": [
      "/opt/conda/lib/python3.9/site-packages/transformers/training_args.py:1474: FutureWarning: `evaluation_strategy` is deprecated and will be removed in version 4.46 of 🤗 Transformers. Use `eval_strategy` instead\n",
      "  warnings.warn(\n",
      "PyTorch: setting up devices\n",
      "huggingface/tokenizers: The current process just got forked, after parallelism has already been used. Disabling parallelism to avoid deadlocks...\n",
      "To disable this warning, you can either:\n",
      "\t- Avoid using `tokenizers` before the fork if possible\n",
      "\t- Explicitly set the environment variable TOKENIZERS_PARALLELISM=(true | false)\n",
      "The default value for the training argument `--report_to` will change in v5 (from all installed integrations to none). In v5, you will need to use `--report_to all` to get the same behavior as now. You should start updating your code and make this info disappear :-).\n"
     ]
    }
   ],
   "source": [
    "batch_size = 8\n",
    "logging_steps = len(Fake_News_dataset_dict[\"train\"]) // batch_size\n",
    "model_name = f\"{DISTIL_BERT}-finetuned-fake-news\"\n",
    "training_args = TrainingArguments(output_dir = model_name,\n",
    "                                  num_train_epochs = 3, # Epochen\n",
    "                                  learning_rate = 4e-5, # Lernrate fuer schnelleres Lernen\n",
    "                                  per_device_train_batch_size = batch_size,\n",
    "                                  per_device_eval_batch_size = batch_size,\n",
    "                                  evaluation_strategy=\"epoch\", # Evaluierung nach jeder Epoche\n",
    "                                  disable_tqdm = False, # Fortschrittsbalken wird angezeigt\n",
    "                                  logging_steps = logging_steps, # Anzahl der Updateschritte zwischen zwei Logs\n",
    "                                  log_level=\"info\",\n",
    "                                  weight_decay=0.01,\n",
    "                                  lr_scheduler_type='linear',  # Add learning rate scheduler\n",
    "                                    warmup_steps=500# Adding weight decay\n",
    "                                    )\n"
   ]
  },
  {
   "cell_type": "code",
   "execution_count": 70,
   "id": "eb47ef5a-2be3-4e45-9113-b3dfc4fb9e5b",
   "metadata": {},
   "outputs": [
    {
     "name": "stderr",
     "output_type": "stream",
     "text": [
      "Detected kernel version 5.4.0, which is below the recommended minimum of 5.5.0; this can cause the process to hang. It is recommended to upgrade the kernel to the minimum version or higher.\n"
     ]
    }
   ],
   "source": [
    "trainer = Trainer(\n",
    "    model = model_bert,\n",
    "    args = training_args,\n",
    "    compute_metrics = compute_metrics,\n",
    "    train_dataset=tokenized_datasets_bert[\"train\"],\n",
    "    eval_dataset=tokenized_datasets_bert[\"val\"],\n",
    "    data_collator=data_collator_bert,\n",
    "    tokenizer=tokenizer_Bert,\n",
    ")"
   ]
  },
  {
   "cell_type": "code",
   "execution_count": null,
   "id": "09f37392-2e61-4434-8d54-4fd9a98cf9a6",
   "metadata": {},
   "outputs": [
    {
     "name": "stderr",
     "output_type": "stream",
     "text": [
      "The following columns in the training set don't have a corresponding argument in `DistilBertForSequenceClassification.forward` and have been ignored: text. If text are not expected by `DistilBertForSequenceClassification.forward`,  you can safely ignore this message.\n",
      "***** Running training *****\n",
      "  Num examples = 108,700\n",
      "  Num Epochs = 3\n",
      "  Instantaneous batch size per device = 8\n",
      "  Total train batch size (w. parallel, distributed & accumulation) = 8\n",
      "  Gradient Accumulation steps = 1\n",
      "  Total optimization steps = 40,764\n",
      "  Number of trainable parameters = 66,955,010\n"
     ]
    },
    {
     "data": {
      "text/html": [
       "\n",
       "    <div>\n",
       "      \n",
       "      <progress value='40633' max='40764' style='width:300px; height:20px; vertical-align: middle;'></progress>\n",
       "      [40633/40764 41:28 < 00:08, 16.33 it/s, Epoch 2.99/3]\n",
       "    </div>\n",
       "    <table border=\"1\" class=\"dataframe\">\n",
       "  <thead>\n",
       " <tr style=\"text-align: left;\">\n",
       "      <th>Epoch</th>\n",
       "      <th>Training Loss</th>\n",
       "      <th>Validation Loss</th>\n",
       "      <th>Precision</th>\n",
       "      <th>Recall</th>\n",
       "      <th>Acc</th>\n",
       "      <th>F1</th>\n",
       "    </tr>\n",
       "  </thead>\n",
       "  <tbody>\n",
       "    <tr>\n",
       "      <td>1</td>\n",
       "      <td>0.121800</td>\n",
       "      <td>0.055650</td>\n",
       "      <td>0.989889</td>\n",
       "      <td>0.989347</td>\n",
       "      <td>0.989568</td>\n",
       "      <td>0.989555</td>\n",
       "    </tr>\n",
       "    <tr>\n",
       "      <td>2</td>\n",
       "      <td>0.022400</td>\n",
       "      <td>0.022345</td>\n",
       "      <td>0.995746</td>\n",
       "      <td>0.995643</td>\n",
       "      <td>0.995695</td>\n",
       "      <td>0.995691</td>\n",
       "    </tr>\n",
       "  </tbody>\n",
       "</table><p>"
      ],
      "text/plain": [
       "<IPython.core.display.HTML object>"
      ]
     },
     "metadata": {},
     "output_type": "display_data"
    },
    {
     "name": "stderr",
     "output_type": "stream",
     "text": [
      "Saving model checkpoint to distilbert/distilbert-base-uncased-finetuned-sst-2-english-finetuned-fake-news/checkpoint-500\n",
      "Configuration saved in distilbert/distilbert-base-uncased-finetuned-sst-2-english-finetuned-fake-news/checkpoint-500/config.json\n",
      "Model weights saved in distilbert/distilbert-base-uncased-finetuned-sst-2-english-finetuned-fake-news/checkpoint-500/model.safetensors\n",
      "tokenizer config file saved in distilbert/distilbert-base-uncased-finetuned-sst-2-english-finetuned-fake-news/checkpoint-500/tokenizer_config.json\n",
      "Special tokens file saved in distilbert/distilbert-base-uncased-finetuned-sst-2-english-finetuned-fake-news/checkpoint-500/special_tokens_map.json\n",
      "Saving model checkpoint to distilbert/distilbert-base-uncased-finetuned-sst-2-english-finetuned-fake-news/checkpoint-1000\n",
      "Configuration saved in distilbert/distilbert-base-uncased-finetuned-sst-2-english-finetuned-fake-news/checkpoint-1000/config.json\n",
      "Model weights saved in distilbert/distilbert-base-uncased-finetuned-sst-2-english-finetuned-fake-news/checkpoint-1000/model.safetensors\n",
      "tokenizer config file saved in distilbert/distilbert-base-uncased-finetuned-sst-2-english-finetuned-fake-news/checkpoint-1000/tokenizer_config.json\n",
      "Special tokens file saved in distilbert/distilbert-base-uncased-finetuned-sst-2-english-finetuned-fake-news/checkpoint-1000/special_tokens_map.json\n",
      "Saving model checkpoint to distilbert/distilbert-base-uncased-finetuned-sst-2-english-finetuned-fake-news/checkpoint-1500\n",
      "Configuration saved in distilbert/distilbert-base-uncased-finetuned-sst-2-english-finetuned-fake-news/checkpoint-1500/config.json\n",
      "Model weights saved in distilbert/distilbert-base-uncased-finetuned-sst-2-english-finetuned-fake-news/checkpoint-1500/model.safetensors\n",
      "tokenizer config file saved in distilbert/distilbert-base-uncased-finetuned-sst-2-english-finetuned-fake-news/checkpoint-1500/tokenizer_config.json\n",
      "Special tokens file saved in distilbert/distilbert-base-uncased-finetuned-sst-2-english-finetuned-fake-news/checkpoint-1500/special_tokens_map.json\n",
      "Saving model checkpoint to distilbert/distilbert-base-uncased-finetuned-sst-2-english-finetuned-fake-news/checkpoint-2000\n",
      "Configuration saved in distilbert/distilbert-base-uncased-finetuned-sst-2-english-finetuned-fake-news/checkpoint-2000/config.json\n",
      "Model weights saved in distilbert/distilbert-base-uncased-finetuned-sst-2-english-finetuned-fake-news/checkpoint-2000/model.safetensors\n",
      "tokenizer config file saved in distilbert/distilbert-base-uncased-finetuned-sst-2-english-finetuned-fake-news/checkpoint-2000/tokenizer_config.json\n",
      "Special tokens file saved in distilbert/distilbert-base-uncased-finetuned-sst-2-english-finetuned-fake-news/checkpoint-2000/special_tokens_map.json\n",
      "Saving model checkpoint to distilbert/distilbert-base-uncased-finetuned-sst-2-english-finetuned-fake-news/checkpoint-2500\n",
      "Configuration saved in distilbert/distilbert-base-uncased-finetuned-sst-2-english-finetuned-fake-news/checkpoint-2500/config.json\n",
      "Model weights saved in distilbert/distilbert-base-uncased-finetuned-sst-2-english-finetuned-fake-news/checkpoint-2500/model.safetensors\n",
      "tokenizer config file saved in distilbert/distilbert-base-uncased-finetuned-sst-2-english-finetuned-fake-news/checkpoint-2500/tokenizer_config.json\n",
      "Special tokens file saved in distilbert/distilbert-base-uncased-finetuned-sst-2-english-finetuned-fake-news/checkpoint-2500/special_tokens_map.json\n",
      "Saving model checkpoint to distilbert/distilbert-base-uncased-finetuned-sst-2-english-finetuned-fake-news/checkpoint-3000\n",
      "Configuration saved in distilbert/distilbert-base-uncased-finetuned-sst-2-english-finetuned-fake-news/checkpoint-3000/config.json\n",
      "Model weights saved in distilbert/distilbert-base-uncased-finetuned-sst-2-english-finetuned-fake-news/checkpoint-3000/model.safetensors\n",
      "tokenizer config file saved in distilbert/distilbert-base-uncased-finetuned-sst-2-english-finetuned-fake-news/checkpoint-3000/tokenizer_config.json\n",
      "Special tokens file saved in distilbert/distilbert-base-uncased-finetuned-sst-2-english-finetuned-fake-news/checkpoint-3000/special_tokens_map.json\n",
      "Saving model checkpoint to distilbert/distilbert-base-uncased-finetuned-sst-2-english-finetuned-fake-news/checkpoint-3500\n",
      "Configuration saved in distilbert/distilbert-base-uncased-finetuned-sst-2-english-finetuned-fake-news/checkpoint-3500/config.json\n",
      "Model weights saved in distilbert/distilbert-base-uncased-finetuned-sst-2-english-finetuned-fake-news/checkpoint-3500/model.safetensors\n",
      "tokenizer config file saved in distilbert/distilbert-base-uncased-finetuned-sst-2-english-finetuned-fake-news/checkpoint-3500/tokenizer_config.json\n",
      "Special tokens file saved in distilbert/distilbert-base-uncased-finetuned-sst-2-english-finetuned-fake-news/checkpoint-3500/special_tokens_map.json\n",
      "Saving model checkpoint to distilbert/distilbert-base-uncased-finetuned-sst-2-english-finetuned-fake-news/checkpoint-4000\n",
      "Configuration saved in distilbert/distilbert-base-uncased-finetuned-sst-2-english-finetuned-fake-news/checkpoint-4000/config.json\n",
      "Model weights saved in distilbert/distilbert-base-uncased-finetuned-sst-2-english-finetuned-fake-news/checkpoint-4000/model.safetensors\n",
      "tokenizer config file saved in distilbert/distilbert-base-uncased-finetuned-sst-2-english-finetuned-fake-news/checkpoint-4000/tokenizer_config.json\n",
      "Special tokens file saved in distilbert/distilbert-base-uncased-finetuned-sst-2-english-finetuned-fake-news/checkpoint-4000/special_tokens_map.json\n",
      "Saving model checkpoint to distilbert/distilbert-base-uncased-finetuned-sst-2-english-finetuned-fake-news/checkpoint-4500\n",
      "Configuration saved in distilbert/distilbert-base-uncased-finetuned-sst-2-english-finetuned-fake-news/checkpoint-4500/config.json\n",
      "Model weights saved in distilbert/distilbert-base-uncased-finetuned-sst-2-english-finetuned-fake-news/checkpoint-4500/model.safetensors\n",
      "tokenizer config file saved in distilbert/distilbert-base-uncased-finetuned-sst-2-english-finetuned-fake-news/checkpoint-4500/tokenizer_config.json\n",
      "Special tokens file saved in distilbert/distilbert-base-uncased-finetuned-sst-2-english-finetuned-fake-news/checkpoint-4500/special_tokens_map.json\n",
      "Saving model checkpoint to distilbert/distilbert-base-uncased-finetuned-sst-2-english-finetuned-fake-news/checkpoint-5000\n",
      "Configuration saved in distilbert/distilbert-base-uncased-finetuned-sst-2-english-finetuned-fake-news/checkpoint-5000/config.json\n",
      "Model weights saved in distilbert/distilbert-base-uncased-finetuned-sst-2-english-finetuned-fake-news/checkpoint-5000/model.safetensors\n",
      "tokenizer config file saved in distilbert/distilbert-base-uncased-finetuned-sst-2-english-finetuned-fake-news/checkpoint-5000/tokenizer_config.json\n",
      "Special tokens file saved in distilbert/distilbert-base-uncased-finetuned-sst-2-english-finetuned-fake-news/checkpoint-5000/special_tokens_map.json\n",
      "Saving model checkpoint to distilbert/distilbert-base-uncased-finetuned-sst-2-english-finetuned-fake-news/checkpoint-5500\n",
      "Configuration saved in distilbert/distilbert-base-uncased-finetuned-sst-2-english-finetuned-fake-news/checkpoint-5500/config.json\n",
      "Model weights saved in distilbert/distilbert-base-uncased-finetuned-sst-2-english-finetuned-fake-news/checkpoint-5500/model.safetensors\n",
      "tokenizer config file saved in distilbert/distilbert-base-uncased-finetuned-sst-2-english-finetuned-fake-news/checkpoint-5500/tokenizer_config.json\n",
      "Special tokens file saved in distilbert/distilbert-base-uncased-finetuned-sst-2-english-finetuned-fake-news/checkpoint-5500/special_tokens_map.json\n",
      "Saving model checkpoint to distilbert/distilbert-base-uncased-finetuned-sst-2-english-finetuned-fake-news/checkpoint-6000\n",
      "Configuration saved in distilbert/distilbert-base-uncased-finetuned-sst-2-english-finetuned-fake-news/checkpoint-6000/config.json\n",
      "Model weights saved in distilbert/distilbert-base-uncased-finetuned-sst-2-english-finetuned-fake-news/checkpoint-6000/model.safetensors\n",
      "tokenizer config file saved in distilbert/distilbert-base-uncased-finetuned-sst-2-english-finetuned-fake-news/checkpoint-6000/tokenizer_config.json\n",
      "Special tokens file saved in distilbert/distilbert-base-uncased-finetuned-sst-2-english-finetuned-fake-news/checkpoint-6000/special_tokens_map.json\n",
      "Saving model checkpoint to distilbert/distilbert-base-uncased-finetuned-sst-2-english-finetuned-fake-news/checkpoint-6500\n",
      "Configuration saved in distilbert/distilbert-base-uncased-finetuned-sst-2-english-finetuned-fake-news/checkpoint-6500/config.json\n",
      "Model weights saved in distilbert/distilbert-base-uncased-finetuned-sst-2-english-finetuned-fake-news/checkpoint-6500/model.safetensors\n",
      "tokenizer config file saved in distilbert/distilbert-base-uncased-finetuned-sst-2-english-finetuned-fake-news/checkpoint-6500/tokenizer_config.json\n",
      "Special tokens file saved in distilbert/distilbert-base-uncased-finetuned-sst-2-english-finetuned-fake-news/checkpoint-6500/special_tokens_map.json\n",
      "Saving model checkpoint to distilbert/distilbert-base-uncased-finetuned-sst-2-english-finetuned-fake-news/checkpoint-7000\n",
      "Configuration saved in distilbert/distilbert-base-uncased-finetuned-sst-2-english-finetuned-fake-news/checkpoint-7000/config.json\n",
      "Model weights saved in distilbert/distilbert-base-uncased-finetuned-sst-2-english-finetuned-fake-news/checkpoint-7000/model.safetensors\n",
      "tokenizer config file saved in distilbert/distilbert-base-uncased-finetuned-sst-2-english-finetuned-fake-news/checkpoint-7000/tokenizer_config.json\n",
      "Special tokens file saved in distilbert/distilbert-base-uncased-finetuned-sst-2-english-finetuned-fake-news/checkpoint-7000/special_tokens_map.json\n",
      "Saving model checkpoint to distilbert/distilbert-base-uncased-finetuned-sst-2-english-finetuned-fake-news/checkpoint-7500\n",
      "Configuration saved in distilbert/distilbert-base-uncased-finetuned-sst-2-english-finetuned-fake-news/checkpoint-7500/config.json\n",
      "Model weights saved in distilbert/distilbert-base-uncased-finetuned-sst-2-english-finetuned-fake-news/checkpoint-7500/model.safetensors\n",
      "tokenizer config file saved in distilbert/distilbert-base-uncased-finetuned-sst-2-english-finetuned-fake-news/checkpoint-7500/tokenizer_config.json\n",
      "Special tokens file saved in distilbert/distilbert-base-uncased-finetuned-sst-2-english-finetuned-fake-news/checkpoint-7500/special_tokens_map.json\n",
      "Saving model checkpoint to distilbert/distilbert-base-uncased-finetuned-sst-2-english-finetuned-fake-news/checkpoint-8000\n",
      "Configuration saved in distilbert/distilbert-base-uncased-finetuned-sst-2-english-finetuned-fake-news/checkpoint-8000/config.json\n",
      "Model weights saved in distilbert/distilbert-base-uncased-finetuned-sst-2-english-finetuned-fake-news/checkpoint-8000/model.safetensors\n",
      "tokenizer config file saved in distilbert/distilbert-base-uncased-finetuned-sst-2-english-finetuned-fake-news/checkpoint-8000/tokenizer_config.json\n",
      "Special tokens file saved in distilbert/distilbert-base-uncased-finetuned-sst-2-english-finetuned-fake-news/checkpoint-8000/special_tokens_map.json\n",
      "Saving model checkpoint to distilbert/distilbert-base-uncased-finetuned-sst-2-english-finetuned-fake-news/checkpoint-8500\n",
      "Configuration saved in distilbert/distilbert-base-uncased-finetuned-sst-2-english-finetuned-fake-news/checkpoint-8500/config.json\n",
      "Model weights saved in distilbert/distilbert-base-uncased-finetuned-sst-2-english-finetuned-fake-news/checkpoint-8500/model.safetensors\n",
      "tokenizer config file saved in distilbert/distilbert-base-uncased-finetuned-sst-2-english-finetuned-fake-news/checkpoint-8500/tokenizer_config.json\n",
      "Special tokens file saved in distilbert/distilbert-base-uncased-finetuned-sst-2-english-finetuned-fake-news/checkpoint-8500/special_tokens_map.json\n",
      "Saving model checkpoint to distilbert/distilbert-base-uncased-finetuned-sst-2-english-finetuned-fake-news/checkpoint-9000\n",
      "Configuration saved in distilbert/distilbert-base-uncased-finetuned-sst-2-english-finetuned-fake-news/checkpoint-9000/config.json\n",
      "Model weights saved in distilbert/distilbert-base-uncased-finetuned-sst-2-english-finetuned-fake-news/checkpoint-9000/model.safetensors\n",
      "tokenizer config file saved in distilbert/distilbert-base-uncased-finetuned-sst-2-english-finetuned-fake-news/checkpoint-9000/tokenizer_config.json\n",
      "Special tokens file saved in distilbert/distilbert-base-uncased-finetuned-sst-2-english-finetuned-fake-news/checkpoint-9000/special_tokens_map.json\n",
      "Saving model checkpoint to distilbert/distilbert-base-uncased-finetuned-sst-2-english-finetuned-fake-news/checkpoint-9500\n",
      "Configuration saved in distilbert/distilbert-base-uncased-finetuned-sst-2-english-finetuned-fake-news/checkpoint-9500/config.json\n",
      "Model weights saved in distilbert/distilbert-base-uncased-finetuned-sst-2-english-finetuned-fake-news/checkpoint-9500/model.safetensors\n",
      "tokenizer config file saved in distilbert/distilbert-base-uncased-finetuned-sst-2-english-finetuned-fake-news/checkpoint-9500/tokenizer_config.json\n",
      "Special tokens file saved in distilbert/distilbert-base-uncased-finetuned-sst-2-english-finetuned-fake-news/checkpoint-9500/special_tokens_map.json\n",
      "Saving model checkpoint to distilbert/distilbert-base-uncased-finetuned-sst-2-english-finetuned-fake-news/checkpoint-10000\n",
      "Configuration saved in distilbert/distilbert-base-uncased-finetuned-sst-2-english-finetuned-fake-news/checkpoint-10000/config.json\n",
      "Model weights saved in distilbert/distilbert-base-uncased-finetuned-sst-2-english-finetuned-fake-news/checkpoint-10000/model.safetensors\n",
      "tokenizer config file saved in distilbert/distilbert-base-uncased-finetuned-sst-2-english-finetuned-fake-news/checkpoint-10000/tokenizer_config.json\n",
      "Special tokens file saved in distilbert/distilbert-base-uncased-finetuned-sst-2-english-finetuned-fake-news/checkpoint-10000/special_tokens_map.json\n",
      "Saving model checkpoint to distilbert/distilbert-base-uncased-finetuned-sst-2-english-finetuned-fake-news/checkpoint-10500\n",
      "Configuration saved in distilbert/distilbert-base-uncased-finetuned-sst-2-english-finetuned-fake-news/checkpoint-10500/config.json\n",
      "Model weights saved in distilbert/distilbert-base-uncased-finetuned-sst-2-english-finetuned-fake-news/checkpoint-10500/model.safetensors\n",
      "tokenizer config file saved in distilbert/distilbert-base-uncased-finetuned-sst-2-english-finetuned-fake-news/checkpoint-10500/tokenizer_config.json\n",
      "Special tokens file saved in distilbert/distilbert-base-uncased-finetuned-sst-2-english-finetuned-fake-news/checkpoint-10500/special_tokens_map.json\n",
      "Saving model checkpoint to distilbert/distilbert-base-uncased-finetuned-sst-2-english-finetuned-fake-news/checkpoint-11000\n",
      "Configuration saved in distilbert/distilbert-base-uncased-finetuned-sst-2-english-finetuned-fake-news/checkpoint-11000/config.json\n",
      "Model weights saved in distilbert/distilbert-base-uncased-finetuned-sst-2-english-finetuned-fake-news/checkpoint-11000/model.safetensors\n",
      "tokenizer config file saved in distilbert/distilbert-base-uncased-finetuned-sst-2-english-finetuned-fake-news/checkpoint-11000/tokenizer_config.json\n",
      "Special tokens file saved in distilbert/distilbert-base-uncased-finetuned-sst-2-english-finetuned-fake-news/checkpoint-11000/special_tokens_map.json\n",
      "Saving model checkpoint to distilbert/distilbert-base-uncased-finetuned-sst-2-english-finetuned-fake-news/checkpoint-11500\n",
      "Configuration saved in distilbert/distilbert-base-uncased-finetuned-sst-2-english-finetuned-fake-news/checkpoint-11500/config.json\n",
      "Model weights saved in distilbert/distilbert-base-uncased-finetuned-sst-2-english-finetuned-fake-news/checkpoint-11500/model.safetensors\n",
      "tokenizer config file saved in distilbert/distilbert-base-uncased-finetuned-sst-2-english-finetuned-fake-news/checkpoint-11500/tokenizer_config.json\n",
      "Special tokens file saved in distilbert/distilbert-base-uncased-finetuned-sst-2-english-finetuned-fake-news/checkpoint-11500/special_tokens_map.json\n",
      "Saving model checkpoint to distilbert/distilbert-base-uncased-finetuned-sst-2-english-finetuned-fake-news/checkpoint-12000\n",
      "Configuration saved in distilbert/distilbert-base-uncased-finetuned-sst-2-english-finetuned-fake-news/checkpoint-12000/config.json\n",
      "Model weights saved in distilbert/distilbert-base-uncased-finetuned-sst-2-english-finetuned-fake-news/checkpoint-12000/model.safetensors\n",
      "tokenizer config file saved in distilbert/distilbert-base-uncased-finetuned-sst-2-english-finetuned-fake-news/checkpoint-12000/tokenizer_config.json\n",
      "Special tokens file saved in distilbert/distilbert-base-uncased-finetuned-sst-2-english-finetuned-fake-news/checkpoint-12000/special_tokens_map.json\n",
      "Saving model checkpoint to distilbert/distilbert-base-uncased-finetuned-sst-2-english-finetuned-fake-news/checkpoint-12500\n",
      "Configuration saved in distilbert/distilbert-base-uncased-finetuned-sst-2-english-finetuned-fake-news/checkpoint-12500/config.json\n",
      "Model weights saved in distilbert/distilbert-base-uncased-finetuned-sst-2-english-finetuned-fake-news/checkpoint-12500/model.safetensors\n",
      "tokenizer config file saved in distilbert/distilbert-base-uncased-finetuned-sst-2-english-finetuned-fake-news/checkpoint-12500/tokenizer_config.json\n",
      "Special tokens file saved in distilbert/distilbert-base-uncased-finetuned-sst-2-english-finetuned-fake-news/checkpoint-12500/special_tokens_map.json\n",
      "Saving model checkpoint to distilbert/distilbert-base-uncased-finetuned-sst-2-english-finetuned-fake-news/checkpoint-13000\n",
      "Configuration saved in distilbert/distilbert-base-uncased-finetuned-sst-2-english-finetuned-fake-news/checkpoint-13000/config.json\n",
      "Model weights saved in distilbert/distilbert-base-uncased-finetuned-sst-2-english-finetuned-fake-news/checkpoint-13000/model.safetensors\n",
      "tokenizer config file saved in distilbert/distilbert-base-uncased-finetuned-sst-2-english-finetuned-fake-news/checkpoint-13000/tokenizer_config.json\n",
      "Special tokens file saved in distilbert/distilbert-base-uncased-finetuned-sst-2-english-finetuned-fake-news/checkpoint-13000/special_tokens_map.json\n",
      "Saving model checkpoint to distilbert/distilbert-base-uncased-finetuned-sst-2-english-finetuned-fake-news/checkpoint-13500\n",
      "Configuration saved in distilbert/distilbert-base-uncased-finetuned-sst-2-english-finetuned-fake-news/checkpoint-13500/config.json\n",
      "Model weights saved in distilbert/distilbert-base-uncased-finetuned-sst-2-english-finetuned-fake-news/checkpoint-13500/model.safetensors\n",
      "tokenizer config file saved in distilbert/distilbert-base-uncased-finetuned-sst-2-english-finetuned-fake-news/checkpoint-13500/tokenizer_config.json\n",
      "Special tokens file saved in distilbert/distilbert-base-uncased-finetuned-sst-2-english-finetuned-fake-news/checkpoint-13500/special_tokens_map.json\n",
      "The following columns in the evaluation set don't have a corresponding argument in `DistilBertForSequenceClassification.forward` and have been ignored: text. If text are not expected by `DistilBertForSequenceClassification.forward`,  you can safely ignore this message.\n",
      "***** Running Evaluation *****\n",
      "  Num examples = 12078\n",
      "  Batch size = 8\n",
      "Saving model checkpoint to distilbert/distilbert-base-uncased-finetuned-sst-2-english-finetuned-fake-news/checkpoint-14000\n",
      "Configuration saved in distilbert/distilbert-base-uncased-finetuned-sst-2-english-finetuned-fake-news/checkpoint-14000/config.json\n",
      "Model weights saved in distilbert/distilbert-base-uncased-finetuned-sst-2-english-finetuned-fake-news/checkpoint-14000/model.safetensors\n",
      "tokenizer config file saved in distilbert/distilbert-base-uncased-finetuned-sst-2-english-finetuned-fake-news/checkpoint-14000/tokenizer_config.json\n",
      "Special tokens file saved in distilbert/distilbert-base-uncased-finetuned-sst-2-english-finetuned-fake-news/checkpoint-14000/special_tokens_map.json\n",
      "Saving model checkpoint to distilbert/distilbert-base-uncased-finetuned-sst-2-english-finetuned-fake-news/checkpoint-14500\n",
      "Configuration saved in distilbert/distilbert-base-uncased-finetuned-sst-2-english-finetuned-fake-news/checkpoint-14500/config.json\n",
      "Model weights saved in distilbert/distilbert-base-uncased-finetuned-sst-2-english-finetuned-fake-news/checkpoint-14500/model.safetensors\n",
      "tokenizer config file saved in distilbert/distilbert-base-uncased-finetuned-sst-2-english-finetuned-fake-news/checkpoint-14500/tokenizer_config.json\n",
      "Special tokens file saved in distilbert/distilbert-base-uncased-finetuned-sst-2-english-finetuned-fake-news/checkpoint-14500/special_tokens_map.json\n",
      "Saving model checkpoint to distilbert/distilbert-base-uncased-finetuned-sst-2-english-finetuned-fake-news/checkpoint-15000\n",
      "Configuration saved in distilbert/distilbert-base-uncased-finetuned-sst-2-english-finetuned-fake-news/checkpoint-15000/config.json\n",
      "Model weights saved in distilbert/distilbert-base-uncased-finetuned-sst-2-english-finetuned-fake-news/checkpoint-15000/model.safetensors\n",
      "tokenizer config file saved in distilbert/distilbert-base-uncased-finetuned-sst-2-english-finetuned-fake-news/checkpoint-15000/tokenizer_config.json\n",
      "Special tokens file saved in distilbert/distilbert-base-uncased-finetuned-sst-2-english-finetuned-fake-news/checkpoint-15000/special_tokens_map.json\n",
      "Saving model checkpoint to distilbert/distilbert-base-uncased-finetuned-sst-2-english-finetuned-fake-news/checkpoint-15500\n",
      "Configuration saved in distilbert/distilbert-base-uncased-finetuned-sst-2-english-finetuned-fake-news/checkpoint-15500/config.json\n",
      "Model weights saved in distilbert/distilbert-base-uncased-finetuned-sst-2-english-finetuned-fake-news/checkpoint-15500/model.safetensors\n",
      "tokenizer config file saved in distilbert/distilbert-base-uncased-finetuned-sst-2-english-finetuned-fake-news/checkpoint-15500/tokenizer_config.json\n",
      "Special tokens file saved in distilbert/distilbert-base-uncased-finetuned-sst-2-english-finetuned-fake-news/checkpoint-15500/special_tokens_map.json\n",
      "Saving model checkpoint to distilbert/distilbert-base-uncased-finetuned-sst-2-english-finetuned-fake-news/checkpoint-16000\n",
      "Configuration saved in distilbert/distilbert-base-uncased-finetuned-sst-2-english-finetuned-fake-news/checkpoint-16000/config.json\n",
      "Model weights saved in distilbert/distilbert-base-uncased-finetuned-sst-2-english-finetuned-fake-news/checkpoint-16000/model.safetensors\n",
      "tokenizer config file saved in distilbert/distilbert-base-uncased-finetuned-sst-2-english-finetuned-fake-news/checkpoint-16000/tokenizer_config.json\n",
      "Special tokens file saved in distilbert/distilbert-base-uncased-finetuned-sst-2-english-finetuned-fake-news/checkpoint-16000/special_tokens_map.json\n",
      "Saving model checkpoint to distilbert/distilbert-base-uncased-finetuned-sst-2-english-finetuned-fake-news/checkpoint-16500\n",
      "Configuration saved in distilbert/distilbert-base-uncased-finetuned-sst-2-english-finetuned-fake-news/checkpoint-16500/config.json\n",
      "Model weights saved in distilbert/distilbert-base-uncased-finetuned-sst-2-english-finetuned-fake-news/checkpoint-16500/model.safetensors\n",
      "tokenizer config file saved in distilbert/distilbert-base-uncased-finetuned-sst-2-english-finetuned-fake-news/checkpoint-16500/tokenizer_config.json\n",
      "Special tokens file saved in distilbert/distilbert-base-uncased-finetuned-sst-2-english-finetuned-fake-news/checkpoint-16500/special_tokens_map.json\n",
      "Saving model checkpoint to distilbert/distilbert-base-uncased-finetuned-sst-2-english-finetuned-fake-news/checkpoint-17000\n",
      "Configuration saved in distilbert/distilbert-base-uncased-finetuned-sst-2-english-finetuned-fake-news/checkpoint-17000/config.json\n",
      "Model weights saved in distilbert/distilbert-base-uncased-finetuned-sst-2-english-finetuned-fake-news/checkpoint-17000/model.safetensors\n",
      "tokenizer config file saved in distilbert/distilbert-base-uncased-finetuned-sst-2-english-finetuned-fake-news/checkpoint-17000/tokenizer_config.json\n",
      "Special tokens file saved in distilbert/distilbert-base-uncased-finetuned-sst-2-english-finetuned-fake-news/checkpoint-17000/special_tokens_map.json\n",
      "Saving model checkpoint to distilbert/distilbert-base-uncased-finetuned-sst-2-english-finetuned-fake-news/checkpoint-17500\n",
      "Configuration saved in distilbert/distilbert-base-uncased-finetuned-sst-2-english-finetuned-fake-news/checkpoint-17500/config.json\n",
      "Model weights saved in distilbert/distilbert-base-uncased-finetuned-sst-2-english-finetuned-fake-news/checkpoint-17500/model.safetensors\n",
      "tokenizer config file saved in distilbert/distilbert-base-uncased-finetuned-sst-2-english-finetuned-fake-news/checkpoint-17500/tokenizer_config.json\n",
      "Special tokens file saved in distilbert/distilbert-base-uncased-finetuned-sst-2-english-finetuned-fake-news/checkpoint-17500/special_tokens_map.json\n",
      "Saving model checkpoint to distilbert/distilbert-base-uncased-finetuned-sst-2-english-finetuned-fake-news/checkpoint-18000\n",
      "Configuration saved in distilbert/distilbert-base-uncased-finetuned-sst-2-english-finetuned-fake-news/checkpoint-18000/config.json\n",
      "Model weights saved in distilbert/distilbert-base-uncased-finetuned-sst-2-english-finetuned-fake-news/checkpoint-18000/model.safetensors\n",
      "tokenizer config file saved in distilbert/distilbert-base-uncased-finetuned-sst-2-english-finetuned-fake-news/checkpoint-18000/tokenizer_config.json\n",
      "Special tokens file saved in distilbert/distilbert-base-uncased-finetuned-sst-2-english-finetuned-fake-news/checkpoint-18000/special_tokens_map.json\n",
      "Saving model checkpoint to distilbert/distilbert-base-uncased-finetuned-sst-2-english-finetuned-fake-news/checkpoint-18500\n",
      "Configuration saved in distilbert/distilbert-base-uncased-finetuned-sst-2-english-finetuned-fake-news/checkpoint-18500/config.json\n",
      "Model weights saved in distilbert/distilbert-base-uncased-finetuned-sst-2-english-finetuned-fake-news/checkpoint-18500/model.safetensors\n",
      "tokenizer config file saved in distilbert/distilbert-base-uncased-finetuned-sst-2-english-finetuned-fake-news/checkpoint-18500/tokenizer_config.json\n",
      "Special tokens file saved in distilbert/distilbert-base-uncased-finetuned-sst-2-english-finetuned-fake-news/checkpoint-18500/special_tokens_map.json\n",
      "Saving model checkpoint to distilbert/distilbert-base-uncased-finetuned-sst-2-english-finetuned-fake-news/checkpoint-19000\n",
      "Configuration saved in distilbert/distilbert-base-uncased-finetuned-sst-2-english-finetuned-fake-news/checkpoint-19000/config.json\n",
      "Model weights saved in distilbert/distilbert-base-uncased-finetuned-sst-2-english-finetuned-fake-news/checkpoint-19000/model.safetensors\n",
      "tokenizer config file saved in distilbert/distilbert-base-uncased-finetuned-sst-2-english-finetuned-fake-news/checkpoint-19000/tokenizer_config.json\n",
      "Special tokens file saved in distilbert/distilbert-base-uncased-finetuned-sst-2-english-finetuned-fake-news/checkpoint-19000/special_tokens_map.json\n",
      "Saving model checkpoint to distilbert/distilbert-base-uncased-finetuned-sst-2-english-finetuned-fake-news/checkpoint-19500\n",
      "Configuration saved in distilbert/distilbert-base-uncased-finetuned-sst-2-english-finetuned-fake-news/checkpoint-19500/config.json\n",
      "Model weights saved in distilbert/distilbert-base-uncased-finetuned-sst-2-english-finetuned-fake-news/checkpoint-19500/model.safetensors\n",
      "tokenizer config file saved in distilbert/distilbert-base-uncased-finetuned-sst-2-english-finetuned-fake-news/checkpoint-19500/tokenizer_config.json\n",
      "Special tokens file saved in distilbert/distilbert-base-uncased-finetuned-sst-2-english-finetuned-fake-news/checkpoint-19500/special_tokens_map.json\n",
      "Saving model checkpoint to distilbert/distilbert-base-uncased-finetuned-sst-2-english-finetuned-fake-news/checkpoint-20000\n",
      "Configuration saved in distilbert/distilbert-base-uncased-finetuned-sst-2-english-finetuned-fake-news/checkpoint-20000/config.json\n",
      "Model weights saved in distilbert/distilbert-base-uncased-finetuned-sst-2-english-finetuned-fake-news/checkpoint-20000/model.safetensors\n",
      "tokenizer config file saved in distilbert/distilbert-base-uncased-finetuned-sst-2-english-finetuned-fake-news/checkpoint-20000/tokenizer_config.json\n",
      "Special tokens file saved in distilbert/distilbert-base-uncased-finetuned-sst-2-english-finetuned-fake-news/checkpoint-20000/special_tokens_map.json\n",
      "Saving model checkpoint to distilbert/distilbert-base-uncased-finetuned-sst-2-english-finetuned-fake-news/checkpoint-20500\n",
      "Configuration saved in distilbert/distilbert-base-uncased-finetuned-sst-2-english-finetuned-fake-news/checkpoint-20500/config.json\n",
      "Model weights saved in distilbert/distilbert-base-uncased-finetuned-sst-2-english-finetuned-fake-news/checkpoint-20500/model.safetensors\n",
      "tokenizer config file saved in distilbert/distilbert-base-uncased-finetuned-sst-2-english-finetuned-fake-news/checkpoint-20500/tokenizer_config.json\n",
      "Special tokens file saved in distilbert/distilbert-base-uncased-finetuned-sst-2-english-finetuned-fake-news/checkpoint-20500/special_tokens_map.json\n",
      "Saving model checkpoint to distilbert/distilbert-base-uncased-finetuned-sst-2-english-finetuned-fake-news/checkpoint-21000\n",
      "Configuration saved in distilbert/distilbert-base-uncased-finetuned-sst-2-english-finetuned-fake-news/checkpoint-21000/config.json\n",
      "Model weights saved in distilbert/distilbert-base-uncased-finetuned-sst-2-english-finetuned-fake-news/checkpoint-21000/model.safetensors\n",
      "tokenizer config file saved in distilbert/distilbert-base-uncased-finetuned-sst-2-english-finetuned-fake-news/checkpoint-21000/tokenizer_config.json\n",
      "Special tokens file saved in distilbert/distilbert-base-uncased-finetuned-sst-2-english-finetuned-fake-news/checkpoint-21000/special_tokens_map.json\n",
      "Saving model checkpoint to distilbert/distilbert-base-uncased-finetuned-sst-2-english-finetuned-fake-news/checkpoint-21500\n",
      "Configuration saved in distilbert/distilbert-base-uncased-finetuned-sst-2-english-finetuned-fake-news/checkpoint-21500/config.json\n",
      "Model weights saved in distilbert/distilbert-base-uncased-finetuned-sst-2-english-finetuned-fake-news/checkpoint-21500/model.safetensors\n",
      "tokenizer config file saved in distilbert/distilbert-base-uncased-finetuned-sst-2-english-finetuned-fake-news/checkpoint-21500/tokenizer_config.json\n",
      "Special tokens file saved in distilbert/distilbert-base-uncased-finetuned-sst-2-english-finetuned-fake-news/checkpoint-21500/special_tokens_map.json\n",
      "Saving model checkpoint to distilbert/distilbert-base-uncased-finetuned-sst-2-english-finetuned-fake-news/checkpoint-22000\n",
      "Configuration saved in distilbert/distilbert-base-uncased-finetuned-sst-2-english-finetuned-fake-news/checkpoint-22000/config.json\n",
      "Model weights saved in distilbert/distilbert-base-uncased-finetuned-sst-2-english-finetuned-fake-news/checkpoint-22000/model.safetensors\n",
      "tokenizer config file saved in distilbert/distilbert-base-uncased-finetuned-sst-2-english-finetuned-fake-news/checkpoint-22000/tokenizer_config.json\n",
      "Special tokens file saved in distilbert/distilbert-base-uncased-finetuned-sst-2-english-finetuned-fake-news/checkpoint-22000/special_tokens_map.json\n",
      "Saving model checkpoint to distilbert/distilbert-base-uncased-finetuned-sst-2-english-finetuned-fake-news/checkpoint-22500\n",
      "Configuration saved in distilbert/distilbert-base-uncased-finetuned-sst-2-english-finetuned-fake-news/checkpoint-22500/config.json\n",
      "Model weights saved in distilbert/distilbert-base-uncased-finetuned-sst-2-english-finetuned-fake-news/checkpoint-22500/model.safetensors\n",
      "tokenizer config file saved in distilbert/distilbert-base-uncased-finetuned-sst-2-english-finetuned-fake-news/checkpoint-22500/tokenizer_config.json\n",
      "Special tokens file saved in distilbert/distilbert-base-uncased-finetuned-sst-2-english-finetuned-fake-news/checkpoint-22500/special_tokens_map.json\n",
      "Saving model checkpoint to distilbert/distilbert-base-uncased-finetuned-sst-2-english-finetuned-fake-news/checkpoint-23000\n",
      "Configuration saved in distilbert/distilbert-base-uncased-finetuned-sst-2-english-finetuned-fake-news/checkpoint-23000/config.json\n",
      "Model weights saved in distilbert/distilbert-base-uncased-finetuned-sst-2-english-finetuned-fake-news/checkpoint-23000/model.safetensors\n",
      "tokenizer config file saved in distilbert/distilbert-base-uncased-finetuned-sst-2-english-finetuned-fake-news/checkpoint-23000/tokenizer_config.json\n",
      "Special tokens file saved in distilbert/distilbert-base-uncased-finetuned-sst-2-english-finetuned-fake-news/checkpoint-23000/special_tokens_map.json\n",
      "Saving model checkpoint to distilbert/distilbert-base-uncased-finetuned-sst-2-english-finetuned-fake-news/checkpoint-23500\n",
      "Configuration saved in distilbert/distilbert-base-uncased-finetuned-sst-2-english-finetuned-fake-news/checkpoint-23500/config.json\n",
      "Model weights saved in distilbert/distilbert-base-uncased-finetuned-sst-2-english-finetuned-fake-news/checkpoint-23500/model.safetensors\n",
      "tokenizer config file saved in distilbert/distilbert-base-uncased-finetuned-sst-2-english-finetuned-fake-news/checkpoint-23500/tokenizer_config.json\n",
      "Special tokens file saved in distilbert/distilbert-base-uncased-finetuned-sst-2-english-finetuned-fake-news/checkpoint-23500/special_tokens_map.json\n",
      "Saving model checkpoint to distilbert/distilbert-base-uncased-finetuned-sst-2-english-finetuned-fake-news/checkpoint-24000\n",
      "Configuration saved in distilbert/distilbert-base-uncased-finetuned-sst-2-english-finetuned-fake-news/checkpoint-24000/config.json\n",
      "Model weights saved in distilbert/distilbert-base-uncased-finetuned-sst-2-english-finetuned-fake-news/checkpoint-24000/model.safetensors\n",
      "tokenizer config file saved in distilbert/distilbert-base-uncased-finetuned-sst-2-english-finetuned-fake-news/checkpoint-24000/tokenizer_config.json\n",
      "Special tokens file saved in distilbert/distilbert-base-uncased-finetuned-sst-2-english-finetuned-fake-news/checkpoint-24000/special_tokens_map.json\n",
      "Saving model checkpoint to distilbert/distilbert-base-uncased-finetuned-sst-2-english-finetuned-fake-news/checkpoint-24500\n",
      "Configuration saved in distilbert/distilbert-base-uncased-finetuned-sst-2-english-finetuned-fake-news/checkpoint-24500/config.json\n",
      "Model weights saved in distilbert/distilbert-base-uncased-finetuned-sst-2-english-finetuned-fake-news/checkpoint-24500/model.safetensors\n",
      "tokenizer config file saved in distilbert/distilbert-base-uncased-finetuned-sst-2-english-finetuned-fake-news/checkpoint-24500/tokenizer_config.json\n",
      "Special tokens file saved in distilbert/distilbert-base-uncased-finetuned-sst-2-english-finetuned-fake-news/checkpoint-24500/special_tokens_map.json\n",
      "Saving model checkpoint to distilbert/distilbert-base-uncased-finetuned-sst-2-english-finetuned-fake-news/checkpoint-25000\n",
      "Configuration saved in distilbert/distilbert-base-uncased-finetuned-sst-2-english-finetuned-fake-news/checkpoint-25000/config.json\n",
      "Model weights saved in distilbert/distilbert-base-uncased-finetuned-sst-2-english-finetuned-fake-news/checkpoint-25000/model.safetensors\n",
      "tokenizer config file saved in distilbert/distilbert-base-uncased-finetuned-sst-2-english-finetuned-fake-news/checkpoint-25000/tokenizer_config.json\n",
      "Special tokens file saved in distilbert/distilbert-base-uncased-finetuned-sst-2-english-finetuned-fake-news/checkpoint-25000/special_tokens_map.json\n",
      "Saving model checkpoint to distilbert/distilbert-base-uncased-finetuned-sst-2-english-finetuned-fake-news/checkpoint-25500\n",
      "Configuration saved in distilbert/distilbert-base-uncased-finetuned-sst-2-english-finetuned-fake-news/checkpoint-25500/config.json\n",
      "Model weights saved in distilbert/distilbert-base-uncased-finetuned-sst-2-english-finetuned-fake-news/checkpoint-25500/model.safetensors\n",
      "tokenizer config file saved in distilbert/distilbert-base-uncased-finetuned-sst-2-english-finetuned-fake-news/checkpoint-25500/tokenizer_config.json\n",
      "Special tokens file saved in distilbert/distilbert-base-uncased-finetuned-sst-2-english-finetuned-fake-news/checkpoint-25500/special_tokens_map.json\n",
      "Saving model checkpoint to distilbert/distilbert-base-uncased-finetuned-sst-2-english-finetuned-fake-news/checkpoint-26000\n",
      "Configuration saved in distilbert/distilbert-base-uncased-finetuned-sst-2-english-finetuned-fake-news/checkpoint-26000/config.json\n",
      "Model weights saved in distilbert/distilbert-base-uncased-finetuned-sst-2-english-finetuned-fake-news/checkpoint-26000/model.safetensors\n",
      "tokenizer config file saved in distilbert/distilbert-base-uncased-finetuned-sst-2-english-finetuned-fake-news/checkpoint-26000/tokenizer_config.json\n",
      "Special tokens file saved in distilbert/distilbert-base-uncased-finetuned-sst-2-english-finetuned-fake-news/checkpoint-26000/special_tokens_map.json\n",
      "Saving model checkpoint to distilbert/distilbert-base-uncased-finetuned-sst-2-english-finetuned-fake-news/checkpoint-26500\n",
      "Configuration saved in distilbert/distilbert-base-uncased-finetuned-sst-2-english-finetuned-fake-news/checkpoint-26500/config.json\n",
      "Model weights saved in distilbert/distilbert-base-uncased-finetuned-sst-2-english-finetuned-fake-news/checkpoint-26500/model.safetensors\n",
      "tokenizer config file saved in distilbert/distilbert-base-uncased-finetuned-sst-2-english-finetuned-fake-news/checkpoint-26500/tokenizer_config.json\n",
      "Special tokens file saved in distilbert/distilbert-base-uncased-finetuned-sst-2-english-finetuned-fake-news/checkpoint-26500/special_tokens_map.json\n",
      "Saving model checkpoint to distilbert/distilbert-base-uncased-finetuned-sst-2-english-finetuned-fake-news/checkpoint-27000\n",
      "Configuration saved in distilbert/distilbert-base-uncased-finetuned-sst-2-english-finetuned-fake-news/checkpoint-27000/config.json\n",
      "Model weights saved in distilbert/distilbert-base-uncased-finetuned-sst-2-english-finetuned-fake-news/checkpoint-27000/model.safetensors\n",
      "tokenizer config file saved in distilbert/distilbert-base-uncased-finetuned-sst-2-english-finetuned-fake-news/checkpoint-27000/tokenizer_config.json\n",
      "Special tokens file saved in distilbert/distilbert-base-uncased-finetuned-sst-2-english-finetuned-fake-news/checkpoint-27000/special_tokens_map.json\n",
      "The following columns in the evaluation set don't have a corresponding argument in `DistilBertForSequenceClassification.forward` and have been ignored: text. If text are not expected by `DistilBertForSequenceClassification.forward`,  you can safely ignore this message.\n",
      "***** Running Evaluation *****\n",
      "  Num examples = 12078\n",
      "  Batch size = 8\n",
      "Saving model checkpoint to distilbert/distilbert-base-uncased-finetuned-sst-2-english-finetuned-fake-news/checkpoint-27500\n",
      "Configuration saved in distilbert/distilbert-base-uncased-finetuned-sst-2-english-finetuned-fake-news/checkpoint-27500/config.json\n",
      "Model weights saved in distilbert/distilbert-base-uncased-finetuned-sst-2-english-finetuned-fake-news/checkpoint-27500/model.safetensors\n",
      "tokenizer config file saved in distilbert/distilbert-base-uncased-finetuned-sst-2-english-finetuned-fake-news/checkpoint-27500/tokenizer_config.json\n",
      "Special tokens file saved in distilbert/distilbert-base-uncased-finetuned-sst-2-english-finetuned-fake-news/checkpoint-27500/special_tokens_map.json\n",
      "Saving model checkpoint to distilbert/distilbert-base-uncased-finetuned-sst-2-english-finetuned-fake-news/checkpoint-28000\n",
      "Configuration saved in distilbert/distilbert-base-uncased-finetuned-sst-2-english-finetuned-fake-news/checkpoint-28000/config.json\n",
      "Model weights saved in distilbert/distilbert-base-uncased-finetuned-sst-2-english-finetuned-fake-news/checkpoint-28000/model.safetensors\n",
      "tokenizer config file saved in distilbert/distilbert-base-uncased-finetuned-sst-2-english-finetuned-fake-news/checkpoint-28000/tokenizer_config.json\n",
      "Special tokens file saved in distilbert/distilbert-base-uncased-finetuned-sst-2-english-finetuned-fake-news/checkpoint-28000/special_tokens_map.json\n",
      "Saving model checkpoint to distilbert/distilbert-base-uncased-finetuned-sst-2-english-finetuned-fake-news/checkpoint-28500\n",
      "Configuration saved in distilbert/distilbert-base-uncased-finetuned-sst-2-english-finetuned-fake-news/checkpoint-28500/config.json\n",
      "Model weights saved in distilbert/distilbert-base-uncased-finetuned-sst-2-english-finetuned-fake-news/checkpoint-28500/model.safetensors\n",
      "tokenizer config file saved in distilbert/distilbert-base-uncased-finetuned-sst-2-english-finetuned-fake-news/checkpoint-28500/tokenizer_config.json\n",
      "Special tokens file saved in distilbert/distilbert-base-uncased-finetuned-sst-2-english-finetuned-fake-news/checkpoint-28500/special_tokens_map.json\n",
      "Saving model checkpoint to distilbert/distilbert-base-uncased-finetuned-sst-2-english-finetuned-fake-news/checkpoint-29000\n",
      "Configuration saved in distilbert/distilbert-base-uncased-finetuned-sst-2-english-finetuned-fake-news/checkpoint-29000/config.json\n",
      "Model weights saved in distilbert/distilbert-base-uncased-finetuned-sst-2-english-finetuned-fake-news/checkpoint-29000/model.safetensors\n",
      "tokenizer config file saved in distilbert/distilbert-base-uncased-finetuned-sst-2-english-finetuned-fake-news/checkpoint-29000/tokenizer_config.json\n",
      "Special tokens file saved in distilbert/distilbert-base-uncased-finetuned-sst-2-english-finetuned-fake-news/checkpoint-29000/special_tokens_map.json\n",
      "Saving model checkpoint to distilbert/distilbert-base-uncased-finetuned-sst-2-english-finetuned-fake-news/checkpoint-29500\n",
      "Configuration saved in distilbert/distilbert-base-uncased-finetuned-sst-2-english-finetuned-fake-news/checkpoint-29500/config.json\n",
      "Model weights saved in distilbert/distilbert-base-uncased-finetuned-sst-2-english-finetuned-fake-news/checkpoint-29500/model.safetensors\n",
      "tokenizer config file saved in distilbert/distilbert-base-uncased-finetuned-sst-2-english-finetuned-fake-news/checkpoint-29500/tokenizer_config.json\n",
      "Special tokens file saved in distilbert/distilbert-base-uncased-finetuned-sst-2-english-finetuned-fake-news/checkpoint-29500/special_tokens_map.json\n",
      "Saving model checkpoint to distilbert/distilbert-base-uncased-finetuned-sst-2-english-finetuned-fake-news/checkpoint-30000\n",
      "Configuration saved in distilbert/distilbert-base-uncased-finetuned-sst-2-english-finetuned-fake-news/checkpoint-30000/config.json\n",
      "Model weights saved in distilbert/distilbert-base-uncased-finetuned-sst-2-english-finetuned-fake-news/checkpoint-30000/model.safetensors\n",
      "tokenizer config file saved in distilbert/distilbert-base-uncased-finetuned-sst-2-english-finetuned-fake-news/checkpoint-30000/tokenizer_config.json\n",
      "Special tokens file saved in distilbert/distilbert-base-uncased-finetuned-sst-2-english-finetuned-fake-news/checkpoint-30000/special_tokens_map.json\n",
      "Saving model checkpoint to distilbert/distilbert-base-uncased-finetuned-sst-2-english-finetuned-fake-news/checkpoint-30500\n",
      "Configuration saved in distilbert/distilbert-base-uncased-finetuned-sst-2-english-finetuned-fake-news/checkpoint-30500/config.json\n",
      "Model weights saved in distilbert/distilbert-base-uncased-finetuned-sst-2-english-finetuned-fake-news/checkpoint-30500/model.safetensors\n",
      "tokenizer config file saved in distilbert/distilbert-base-uncased-finetuned-sst-2-english-finetuned-fake-news/checkpoint-30500/tokenizer_config.json\n",
      "Special tokens file saved in distilbert/distilbert-base-uncased-finetuned-sst-2-english-finetuned-fake-news/checkpoint-30500/special_tokens_map.json\n",
      "Saving model checkpoint to distilbert/distilbert-base-uncased-finetuned-sst-2-english-finetuned-fake-news/checkpoint-31000\n",
      "Configuration saved in distilbert/distilbert-base-uncased-finetuned-sst-2-english-finetuned-fake-news/checkpoint-31000/config.json\n",
      "Model weights saved in distilbert/distilbert-base-uncased-finetuned-sst-2-english-finetuned-fake-news/checkpoint-31000/model.safetensors\n",
      "tokenizer config file saved in distilbert/distilbert-base-uncased-finetuned-sst-2-english-finetuned-fake-news/checkpoint-31000/tokenizer_config.json\n",
      "Special tokens file saved in distilbert/distilbert-base-uncased-finetuned-sst-2-english-finetuned-fake-news/checkpoint-31000/special_tokens_map.json\n",
      "Saving model checkpoint to distilbert/distilbert-base-uncased-finetuned-sst-2-english-finetuned-fake-news/checkpoint-31500\n",
      "Configuration saved in distilbert/distilbert-base-uncased-finetuned-sst-2-english-finetuned-fake-news/checkpoint-31500/config.json\n",
      "Model weights saved in distilbert/distilbert-base-uncased-finetuned-sst-2-english-finetuned-fake-news/checkpoint-31500/model.safetensors\n",
      "tokenizer config file saved in distilbert/distilbert-base-uncased-finetuned-sst-2-english-finetuned-fake-news/checkpoint-31500/tokenizer_config.json\n",
      "Special tokens file saved in distilbert/distilbert-base-uncased-finetuned-sst-2-english-finetuned-fake-news/checkpoint-31500/special_tokens_map.json\n",
      "Saving model checkpoint to distilbert/distilbert-base-uncased-finetuned-sst-2-english-finetuned-fake-news/checkpoint-32000\n",
      "Configuration saved in distilbert/distilbert-base-uncased-finetuned-sst-2-english-finetuned-fake-news/checkpoint-32000/config.json\n",
      "Model weights saved in distilbert/distilbert-base-uncased-finetuned-sst-2-english-finetuned-fake-news/checkpoint-32000/model.safetensors\n",
      "tokenizer config file saved in distilbert/distilbert-base-uncased-finetuned-sst-2-english-finetuned-fake-news/checkpoint-32000/tokenizer_config.json\n",
      "Special tokens file saved in distilbert/distilbert-base-uncased-finetuned-sst-2-english-finetuned-fake-news/checkpoint-32000/special_tokens_map.json\n",
      "Saving model checkpoint to distilbert/distilbert-base-uncased-finetuned-sst-2-english-finetuned-fake-news/checkpoint-32500\n",
      "Configuration saved in distilbert/distilbert-base-uncased-finetuned-sst-2-english-finetuned-fake-news/checkpoint-32500/config.json\n",
      "Model weights saved in distilbert/distilbert-base-uncased-finetuned-sst-2-english-finetuned-fake-news/checkpoint-32500/model.safetensors\n",
      "tokenizer config file saved in distilbert/distilbert-base-uncased-finetuned-sst-2-english-finetuned-fake-news/checkpoint-32500/tokenizer_config.json\n",
      "Special tokens file saved in distilbert/distilbert-base-uncased-finetuned-sst-2-english-finetuned-fake-news/checkpoint-32500/special_tokens_map.json\n",
      "Saving model checkpoint to distilbert/distilbert-base-uncased-finetuned-sst-2-english-finetuned-fake-news/checkpoint-33000\n",
      "Configuration saved in distilbert/distilbert-base-uncased-finetuned-sst-2-english-finetuned-fake-news/checkpoint-33000/config.json\n",
      "Model weights saved in distilbert/distilbert-base-uncased-finetuned-sst-2-english-finetuned-fake-news/checkpoint-33000/model.safetensors\n",
      "tokenizer config file saved in distilbert/distilbert-base-uncased-finetuned-sst-2-english-finetuned-fake-news/checkpoint-33000/tokenizer_config.json\n",
      "Special tokens file saved in distilbert/distilbert-base-uncased-finetuned-sst-2-english-finetuned-fake-news/checkpoint-33000/special_tokens_map.json\n",
      "Saving model checkpoint to distilbert/distilbert-base-uncased-finetuned-sst-2-english-finetuned-fake-news/checkpoint-33500\n",
      "Configuration saved in distilbert/distilbert-base-uncased-finetuned-sst-2-english-finetuned-fake-news/checkpoint-33500/config.json\n",
      "Model weights saved in distilbert/distilbert-base-uncased-finetuned-sst-2-english-finetuned-fake-news/checkpoint-33500/model.safetensors\n",
      "tokenizer config file saved in distilbert/distilbert-base-uncased-finetuned-sst-2-english-finetuned-fake-news/checkpoint-33500/tokenizer_config.json\n",
      "Special tokens file saved in distilbert/distilbert-base-uncased-finetuned-sst-2-english-finetuned-fake-news/checkpoint-33500/special_tokens_map.json\n",
      "Saving model checkpoint to distilbert/distilbert-base-uncased-finetuned-sst-2-english-finetuned-fake-news/checkpoint-34000\n",
      "Configuration saved in distilbert/distilbert-base-uncased-finetuned-sst-2-english-finetuned-fake-news/checkpoint-34000/config.json\n",
      "Model weights saved in distilbert/distilbert-base-uncased-finetuned-sst-2-english-finetuned-fake-news/checkpoint-34000/model.safetensors\n",
      "tokenizer config file saved in distilbert/distilbert-base-uncased-finetuned-sst-2-english-finetuned-fake-news/checkpoint-34000/tokenizer_config.json\n",
      "Special tokens file saved in distilbert/distilbert-base-uncased-finetuned-sst-2-english-finetuned-fake-news/checkpoint-34000/special_tokens_map.json\n",
      "Saving model checkpoint to distilbert/distilbert-base-uncased-finetuned-sst-2-english-finetuned-fake-news/checkpoint-34500\n",
      "Configuration saved in distilbert/distilbert-base-uncased-finetuned-sst-2-english-finetuned-fake-news/checkpoint-34500/config.json\n",
      "Model weights saved in distilbert/distilbert-base-uncased-finetuned-sst-2-english-finetuned-fake-news/checkpoint-34500/model.safetensors\n",
      "tokenizer config file saved in distilbert/distilbert-base-uncased-finetuned-sst-2-english-finetuned-fake-news/checkpoint-34500/tokenizer_config.json\n",
      "Special tokens file saved in distilbert/distilbert-base-uncased-finetuned-sst-2-english-finetuned-fake-news/checkpoint-34500/special_tokens_map.json\n",
      "Saving model checkpoint to distilbert/distilbert-base-uncased-finetuned-sst-2-english-finetuned-fake-news/checkpoint-35000\n",
      "Configuration saved in distilbert/distilbert-base-uncased-finetuned-sst-2-english-finetuned-fake-news/checkpoint-35000/config.json\n",
      "Model weights saved in distilbert/distilbert-base-uncased-finetuned-sst-2-english-finetuned-fake-news/checkpoint-35000/model.safetensors\n",
      "tokenizer config file saved in distilbert/distilbert-base-uncased-finetuned-sst-2-english-finetuned-fake-news/checkpoint-35000/tokenizer_config.json\n",
      "Special tokens file saved in distilbert/distilbert-base-uncased-finetuned-sst-2-english-finetuned-fake-news/checkpoint-35000/special_tokens_map.json\n",
      "Saving model checkpoint to distilbert/distilbert-base-uncased-finetuned-sst-2-english-finetuned-fake-news/checkpoint-35500\n",
      "Configuration saved in distilbert/distilbert-base-uncased-finetuned-sst-2-english-finetuned-fake-news/checkpoint-35500/config.json\n",
      "Model weights saved in distilbert/distilbert-base-uncased-finetuned-sst-2-english-finetuned-fake-news/checkpoint-35500/model.safetensors\n",
      "tokenizer config file saved in distilbert/distilbert-base-uncased-finetuned-sst-2-english-finetuned-fake-news/checkpoint-35500/tokenizer_config.json\n",
      "Special tokens file saved in distilbert/distilbert-base-uncased-finetuned-sst-2-english-finetuned-fake-news/checkpoint-35500/special_tokens_map.json\n",
      "Saving model checkpoint to distilbert/distilbert-base-uncased-finetuned-sst-2-english-finetuned-fake-news/checkpoint-36000\n",
      "Configuration saved in distilbert/distilbert-base-uncased-finetuned-sst-2-english-finetuned-fake-news/checkpoint-36000/config.json\n",
      "Model weights saved in distilbert/distilbert-base-uncased-finetuned-sst-2-english-finetuned-fake-news/checkpoint-36000/model.safetensors\n",
      "tokenizer config file saved in distilbert/distilbert-base-uncased-finetuned-sst-2-english-finetuned-fake-news/checkpoint-36000/tokenizer_config.json\n",
      "Special tokens file saved in distilbert/distilbert-base-uncased-finetuned-sst-2-english-finetuned-fake-news/checkpoint-36000/special_tokens_map.json\n",
      "Saving model checkpoint to distilbert/distilbert-base-uncased-finetuned-sst-2-english-finetuned-fake-news/checkpoint-36500\n",
      "Configuration saved in distilbert/distilbert-base-uncased-finetuned-sst-2-english-finetuned-fake-news/checkpoint-36500/config.json\n",
      "Model weights saved in distilbert/distilbert-base-uncased-finetuned-sst-2-english-finetuned-fake-news/checkpoint-36500/model.safetensors\n",
      "tokenizer config file saved in distilbert/distilbert-base-uncased-finetuned-sst-2-english-finetuned-fake-news/checkpoint-36500/tokenizer_config.json\n",
      "Special tokens file saved in distilbert/distilbert-base-uncased-finetuned-sst-2-english-finetuned-fake-news/checkpoint-36500/special_tokens_map.json\n",
      "Saving model checkpoint to distilbert/distilbert-base-uncased-finetuned-sst-2-english-finetuned-fake-news/checkpoint-37000\n",
      "Configuration saved in distilbert/distilbert-base-uncased-finetuned-sst-2-english-finetuned-fake-news/checkpoint-37000/config.json\n",
      "Model weights saved in distilbert/distilbert-base-uncased-finetuned-sst-2-english-finetuned-fake-news/checkpoint-37000/model.safetensors\n",
      "tokenizer config file saved in distilbert/distilbert-base-uncased-finetuned-sst-2-english-finetuned-fake-news/checkpoint-37000/tokenizer_config.json\n",
      "Special tokens file saved in distilbert/distilbert-base-uncased-finetuned-sst-2-english-finetuned-fake-news/checkpoint-37000/special_tokens_map.json\n",
      "Saving model checkpoint to distilbert/distilbert-base-uncased-finetuned-sst-2-english-finetuned-fake-news/checkpoint-37500\n",
      "Configuration saved in distilbert/distilbert-base-uncased-finetuned-sst-2-english-finetuned-fake-news/checkpoint-37500/config.json\n",
      "Model weights saved in distilbert/distilbert-base-uncased-finetuned-sst-2-english-finetuned-fake-news/checkpoint-37500/model.safetensors\n",
      "tokenizer config file saved in distilbert/distilbert-base-uncased-finetuned-sst-2-english-finetuned-fake-news/checkpoint-37500/tokenizer_config.json\n",
      "Special tokens file saved in distilbert/distilbert-base-uncased-finetuned-sst-2-english-finetuned-fake-news/checkpoint-37500/special_tokens_map.json\n",
      "Saving model checkpoint to distilbert/distilbert-base-uncased-finetuned-sst-2-english-finetuned-fake-news/checkpoint-38000\n",
      "Configuration saved in distilbert/distilbert-base-uncased-finetuned-sst-2-english-finetuned-fake-news/checkpoint-38000/config.json\n",
      "Model weights saved in distilbert/distilbert-base-uncased-finetuned-sst-2-english-finetuned-fake-news/checkpoint-38000/model.safetensors\n",
      "tokenizer config file saved in distilbert/distilbert-base-uncased-finetuned-sst-2-english-finetuned-fake-news/checkpoint-38000/tokenizer_config.json\n",
      "Special tokens file saved in distilbert/distilbert-base-uncased-finetuned-sst-2-english-finetuned-fake-news/checkpoint-38000/special_tokens_map.json\n",
      "Saving model checkpoint to distilbert/distilbert-base-uncased-finetuned-sst-2-english-finetuned-fake-news/checkpoint-38500\n",
      "Configuration saved in distilbert/distilbert-base-uncased-finetuned-sst-2-english-finetuned-fake-news/checkpoint-38500/config.json\n",
      "Model weights saved in distilbert/distilbert-base-uncased-finetuned-sst-2-english-finetuned-fake-news/checkpoint-38500/model.safetensors\n",
      "tokenizer config file saved in distilbert/distilbert-base-uncased-finetuned-sst-2-english-finetuned-fake-news/checkpoint-38500/tokenizer_config.json\n",
      "Special tokens file saved in distilbert/distilbert-base-uncased-finetuned-sst-2-english-finetuned-fake-news/checkpoint-38500/special_tokens_map.json\n",
      "Saving model checkpoint to distilbert/distilbert-base-uncased-finetuned-sst-2-english-finetuned-fake-news/checkpoint-39000\n",
      "Configuration saved in distilbert/distilbert-base-uncased-finetuned-sst-2-english-finetuned-fake-news/checkpoint-39000/config.json\n",
      "Model weights saved in distilbert/distilbert-base-uncased-finetuned-sst-2-english-finetuned-fake-news/checkpoint-39000/model.safetensors\n",
      "tokenizer config file saved in distilbert/distilbert-base-uncased-finetuned-sst-2-english-finetuned-fake-news/checkpoint-39000/tokenizer_config.json\n",
      "Special tokens file saved in distilbert/distilbert-base-uncased-finetuned-sst-2-english-finetuned-fake-news/checkpoint-39000/special_tokens_map.json\n",
      "Saving model checkpoint to distilbert/distilbert-base-uncased-finetuned-sst-2-english-finetuned-fake-news/checkpoint-39500\n",
      "Configuration saved in distilbert/distilbert-base-uncased-finetuned-sst-2-english-finetuned-fake-news/checkpoint-39500/config.json\n",
      "Model weights saved in distilbert/distilbert-base-uncased-finetuned-sst-2-english-finetuned-fake-news/checkpoint-39500/model.safetensors\n",
      "tokenizer config file saved in distilbert/distilbert-base-uncased-finetuned-sst-2-english-finetuned-fake-news/checkpoint-39500/tokenizer_config.json\n",
      "Special tokens file saved in distilbert/distilbert-base-uncased-finetuned-sst-2-english-finetuned-fake-news/checkpoint-39500/special_tokens_map.json\n",
      "Saving model checkpoint to distilbert/distilbert-base-uncased-finetuned-sst-2-english-finetuned-fake-news/checkpoint-40000\n",
      "Configuration saved in distilbert/distilbert-base-uncased-finetuned-sst-2-english-finetuned-fake-news/checkpoint-40000/config.json\n",
      "Model weights saved in distilbert/distilbert-base-uncased-finetuned-sst-2-english-finetuned-fake-news/checkpoint-40000/model.safetensors\n",
      "tokenizer config file saved in distilbert/distilbert-base-uncased-finetuned-sst-2-english-finetuned-fake-news/checkpoint-40000/tokenizer_config.json\n",
      "Special tokens file saved in distilbert/distilbert-base-uncased-finetuned-sst-2-english-finetuned-fake-news/checkpoint-40000/special_tokens_map.json\n",
      "Saving model checkpoint to distilbert/distilbert-base-uncased-finetuned-sst-2-english-finetuned-fake-news/checkpoint-40500\n",
      "Configuration saved in distilbert/distilbert-base-uncased-finetuned-sst-2-english-finetuned-fake-news/checkpoint-40500/config.json\n",
      "Model weights saved in distilbert/distilbert-base-uncased-finetuned-sst-2-english-finetuned-fake-news/checkpoint-40500/model.safetensors\n",
      "tokenizer config file saved in distilbert/distilbert-base-uncased-finetuned-sst-2-english-finetuned-fake-news/checkpoint-40500/tokenizer_config.json\n",
      "Special tokens file saved in distilbert/distilbert-base-uncased-finetuned-sst-2-english-finetuned-fake-news/checkpoint-40500/special_tokens_map.json\n"
     ]
    }
   ],
   "source": [
    "trainer.train()"
   ]
  },
  {
   "cell_type": "code",
   "execution_count": 62,
   "id": "e811b75c-f3cc-495b-a10d-2fbd727f54c9",
   "metadata": {},
   "outputs": [
    {
     "name": "stderr",
     "output_type": "stream",
     "text": [
      "The following columns in the evaluation set don't have a corresponding argument in `BertForSequenceClassification.forward` and have been ignored: text. If text are not expected by `BertForSequenceClassification.forward`,  you can safely ignore this message.\n",
      "***** Running Evaluation *****\n",
      "  Num examples = 13420\n",
      "  Batch size = 16\n"
     ]
    },
    {
     "data": {
      "text/plain": [
       "{'eval_loss': 0.04421412944793701,\n",
       " 'eval_precision': 0.9926442344485382,\n",
       " 'eval_recall': 0.9925928500764905,\n",
       " 'eval_acc': 0.9926229508196721,\n",
       " 'eval_f1': 0.9926176087883761,\n",
       " 'eval_runtime': 29.3303,\n",
       " 'eval_samples_per_second': 457.548,\n",
       " 'eval_steps_per_second': 28.605,\n",
       " 'epoch': 3.0}"
      ]
     },
     "execution_count": 62,
     "metadata": {},
     "output_type": "execute_result"
    }
   ],
   "source": [
    "trainer.evaluate(eval_dataset=tokenized_datasets_bert['test'])"
   ]
  },
  {
   "cell_type": "markdown",
   "id": "c749fd35-e8c0-4e87-84e4-58141d64bc71",
   "metadata": {},
   "source": [
    "#### Evaluation"
   ]
  },
  {
   "cell_type": "markdown",
   "id": "20d19751-d503-4b72-bafd-676159f64e0c",
   "metadata": {},
   "source": [
    "The model demonstrates excellent performance in terms of precision (99.61%), recall (99.62%), accuracy (99.62%) and F1-score (99.62%). The model exhibits both effectiveness and efficiency, with a low evaluation loss (0.027%) and a high processing rate of samples and steps. These results indicate that the model is well generalised and suitable for use in real-world applications where accuracy and speed are critical.\n",
    "The model is thus a powerful tool for prediction and classification, exhibiting high precision and a remarkable ability to identify positive cases while making very few errors."
   ]
  },
  {
   "cell_type": "markdown",
   "id": "c0c32dba-1dde-4669-b3cd-876a090a4eaf",
   "metadata": {},
   "source": [
    "### Second Model"
   ]
  },
  {
   "cell_type": "markdown",
   "id": "e73dc1c2-2a8d-4901-9c22-3111397db42c",
   "metadata": {},
   "source": [
    "We are using:\n",
    "Bert Base Uncased as Second Model:\n",
    "- https://huggingface.co/google-bert/bert-base-uncased"
   ]
  },
  {
   "cell_type": "code",
   "execution_count": 54,
   "id": "db3a83bb-c9af-476c-bdc8-531f3e5c10c8",
   "metadata": {},
   "outputs": [
    {
     "name": "stderr",
     "output_type": "stream",
     "text": [
      "loading configuration file config.json from cache at /home/jovyan/.cache/huggingface/hub/models--google-bert--bert-base-uncased/snapshots/86b5e0934494bd15c9632b12f734a8a67f723594/config.json\n",
      "Model config BertConfig {\n",
      "  \"_name_or_path\": \"google-bert/bert-base-uncased\",\n",
      "  \"architectures\": [\n",
      "    \"BertForMaskedLM\"\n",
      "  ],\n",
      "  \"attention_probs_dropout_prob\": 0.1,\n",
      "  \"classifier_dropout\": null,\n",
      "  \"gradient_checkpointing\": false,\n",
      "  \"hidden_act\": \"gelu\",\n",
      "  \"hidden_dropout_prob\": 0.1,\n",
      "  \"hidden_size\": 768,\n",
      "  \"initializer_range\": 0.02,\n",
      "  \"intermediate_size\": 3072,\n",
      "  \"layer_norm_eps\": 1e-12,\n",
      "  \"max_position_embeddings\": 512,\n",
      "  \"model_type\": \"bert\",\n",
      "  \"num_attention_heads\": 12,\n",
      "  \"num_hidden_layers\": 12,\n",
      "  \"pad_token_id\": 0,\n",
      "  \"position_embedding_type\": \"absolute\",\n",
      "  \"transformers_version\": \"4.41.2\",\n",
      "  \"type_vocab_size\": 2,\n",
      "  \"use_cache\": true,\n",
      "  \"vocab_size\": 30522\n",
      "}\n",
      "\n",
      "loading file vocab.txt from cache at /home/jovyan/.cache/huggingface/hub/models--google-bert--bert-base-uncased/snapshots/86b5e0934494bd15c9632b12f734a8a67f723594/vocab.txt\n",
      "loading file tokenizer.json from cache at /home/jovyan/.cache/huggingface/hub/models--google-bert--bert-base-uncased/snapshots/86b5e0934494bd15c9632b12f734a8a67f723594/tokenizer.json\n",
      "loading file added_tokens.json from cache at None\n",
      "loading file special_tokens_map.json from cache at None\n",
      "loading file tokenizer_config.json from cache at /home/jovyan/.cache/huggingface/hub/models--google-bert--bert-base-uncased/snapshots/86b5e0934494bd15c9632b12f734a8a67f723594/tokenizer_config.json\n",
      "loading configuration file config.json from cache at /home/jovyan/.cache/huggingface/hub/models--google-bert--bert-base-uncased/snapshots/86b5e0934494bd15c9632b12f734a8a67f723594/config.json\n",
      "Model config BertConfig {\n",
      "  \"_name_or_path\": \"google-bert/bert-base-uncased\",\n",
      "  \"architectures\": [\n",
      "    \"BertForMaskedLM\"\n",
      "  ],\n",
      "  \"attention_probs_dropout_prob\": 0.1,\n",
      "  \"classifier_dropout\": null,\n",
      "  \"gradient_checkpointing\": false,\n",
      "  \"hidden_act\": \"gelu\",\n",
      "  \"hidden_dropout_prob\": 0.1,\n",
      "  \"hidden_size\": 768,\n",
      "  \"initializer_range\": 0.02,\n",
      "  \"intermediate_size\": 3072,\n",
      "  \"layer_norm_eps\": 1e-12,\n",
      "  \"max_position_embeddings\": 512,\n",
      "  \"model_type\": \"bert\",\n",
      "  \"num_attention_heads\": 12,\n",
      "  \"num_hidden_layers\": 12,\n",
      "  \"pad_token_id\": 0,\n",
      "  \"position_embedding_type\": \"absolute\",\n",
      "  \"transformers_version\": \"4.41.2\",\n",
      "  \"type_vocab_size\": 2,\n",
      "  \"use_cache\": true,\n",
      "  \"vocab_size\": 30522\n",
      "}\n",
      "\n"
     ]
    }
   ],
   "source": [
    "BERT = \"google-bert/bert-base-uncased\"\n",
    "\n",
    "def tokenizer(checkpoint):\n",
    "    return AutoTokenizer.from_pretrained(checkpoint)\n",
    "\n",
    "tokenizer_Bert_uncased = tokenizer(BERT)"
   ]
  },
  {
   "cell_type": "code",
   "execution_count": 55,
   "id": "06b0a62a-598e-4319-a7aa-711114d29fa6",
   "metadata": {},
   "outputs": [
    {
     "data": {
      "application/vnd.jupyter.widget-view+json": {
       "model_id": "c2113b443b0e47cca1d1dc3fe88ae6d9",
       "version_major": 2,
       "version_minor": 0
      },
      "text/plain": [
       "Map:   0%|          | 0/108700 [00:00<?, ? examples/s]"
      ]
     },
     "metadata": {},
     "output_type": "display_data"
    },
    {
     "data": {
      "application/vnd.jupyter.widget-view+json": {
       "model_id": "9c98d9494d9a4a48b3fe6a9359591cd0",
       "version_major": 2,
       "version_minor": 0
      },
      "text/plain": [
       "Map:   0%|          | 0/12078 [00:00<?, ? examples/s]"
      ]
     },
     "metadata": {},
     "output_type": "display_data"
    },
    {
     "data": {
      "application/vnd.jupyter.widget-view+json": {
       "model_id": "d3ef3b4751f54a348d25e0719fc6f025",
       "version_major": 2,
       "version_minor": 0
      },
      "text/plain": [
       "Map:   0%|          | 0/13420 [00:00<?, ? examples/s]"
      ]
     },
     "metadata": {},
     "output_type": "display_data"
    }
   ],
   "source": [
    "tokenized_dataset = Fake_News_dataset_dict.map(\n",
    "    lambda batch: tokenize_function(batch, tokenizer_Bert_uncased),\n",
    "    batched=True\n",
    ")"
   ]
  },
  {
   "cell_type": "code",
   "execution_count": 56,
   "id": "9e0898ce-9134-4845-b64f-f83295ef7296",
   "metadata": {},
   "outputs": [],
   "source": [
    "data_collator_bert_uncased = DataCollatorWithPadding(tokenizer=tokenizer_Bert_uncased, return_tensors=\"pt\")"
   ]
  },
  {
   "cell_type": "code",
   "execution_count": 57,
   "id": "f0a8f74d-1afb-4c45-b2bc-7c6d5e31231e",
   "metadata": {},
   "outputs": [
    {
     "name": "stderr",
     "output_type": "stream",
     "text": [
      "loading configuration file config.json from cache at /home/jovyan/.cache/huggingface/hub/models--google-bert--bert-base-uncased/snapshots/86b5e0934494bd15c9632b12f734a8a67f723594/config.json\n",
      "Model config BertConfig {\n",
      "  \"_name_or_path\": \"google-bert/bert-base-uncased\",\n",
      "  \"architectures\": [\n",
      "    \"BertForMaskedLM\"\n",
      "  ],\n",
      "  \"attention_probs_dropout_prob\": 0.1,\n",
      "  \"classifier_dropout\": null,\n",
      "  \"gradient_checkpointing\": false,\n",
      "  \"hidden_act\": \"gelu\",\n",
      "  \"hidden_dropout_prob\": 0.1,\n",
      "  \"hidden_size\": 768,\n",
      "  \"initializer_range\": 0.02,\n",
      "  \"intermediate_size\": 3072,\n",
      "  \"layer_norm_eps\": 1e-12,\n",
      "  \"max_position_embeddings\": 512,\n",
      "  \"model_type\": \"bert\",\n",
      "  \"num_attention_heads\": 12,\n",
      "  \"num_hidden_layers\": 12,\n",
      "  \"pad_token_id\": 0,\n",
      "  \"position_embedding_type\": \"absolute\",\n",
      "  \"transformers_version\": \"4.41.2\",\n",
      "  \"type_vocab_size\": 2,\n",
      "  \"use_cache\": true,\n",
      "  \"vocab_size\": 30522\n",
      "}\n",
      "\n",
      "loading weights file model.safetensors from cache at /home/jovyan/.cache/huggingface/hub/models--google-bert--bert-base-uncased/snapshots/86b5e0934494bd15c9632b12f734a8a67f723594/model.safetensors\n",
      "Some weights of the model checkpoint at google-bert/bert-base-uncased were not used when initializing BertForSequenceClassification: ['cls.predictions.bias', 'cls.predictions.transform.LayerNorm.bias', 'cls.predictions.transform.LayerNorm.weight', 'cls.predictions.transform.dense.bias', 'cls.predictions.transform.dense.weight', 'cls.seq_relationship.bias', 'cls.seq_relationship.weight']\n",
      "- This IS expected if you are initializing BertForSequenceClassification from the checkpoint of a model trained on another task or with another architecture (e.g. initializing a BertForSequenceClassification model from a BertForPreTraining model).\n",
      "- This IS NOT expected if you are initializing BertForSequenceClassification from the checkpoint of a model that you expect to be exactly identical (initializing a BertForSequenceClassification model from a BertForSequenceClassification model).\n",
      "Some weights of BertForSequenceClassification were not initialized from the model checkpoint at google-bert/bert-base-uncased and are newly initialized: ['classifier.bias', 'classifier.weight']\n",
      "You should probably TRAIN this model on a down-stream task to be able to use it for predictions and inference.\n"
     ]
    }
   ],
   "source": [
    "model_bert = AutoModelForSequenceClassification.from_pretrained(BERT, num_labels=2)"
   ]
  },
  {
   "cell_type": "code",
   "execution_count": 58,
   "id": "2905b3c3-cb7b-4ee2-b92d-8b51fe7bb94b",
   "metadata": {},
   "outputs": [
    {
     "name": "stderr",
     "output_type": "stream",
     "text": [
      "/opt/conda/lib/python3.9/site-packages/transformers/training_args.py:1474: FutureWarning: `evaluation_strategy` is deprecated and will be removed in version 4.46 of 🤗 Transformers. Use `eval_strategy` instead\n",
      "  warnings.warn(\n",
      "PyTorch: setting up devices\n",
      "huggingface/tokenizers: The current process just got forked, after parallelism has already been used. Disabling parallelism to avoid deadlocks...\n",
      "To disable this warning, you can either:\n",
      "\t- Avoid using `tokenizers` before the fork if possible\n",
      "\t- Explicitly set the environment variable TOKENIZERS_PARALLELISM=(true | false)\n",
      "The default value for the training argument `--report_to` will change in v5 (from all installed integrations to none). In v5, you will need to use `--report_to all` to get the same behavior as now. You should start updating your code and make this info disappear :-).\n"
     ]
    }
   ],
   "source": [
    "training_args = TrainingArguments(\n",
    "    output_dir=f\"{BERT}-finetuned-fake-news\",\n",
    "    num_train_epochs=3,  # Erhöhte Anzahl der Epochen\n",
    "    learning_rate=1e-5,  # Angepasste Lernrate\n",
    "    per_device_train_batch_size=16,  # Angepasste Batch-Größe für Training\n",
    "    per_device_eval_batch_size=16,  # Angepasste Batch-Größe für Evaluation\n",
    "    evaluation_strategy=\"epoch\",\n",
    "    disable_tqdm=False,\n",
    "    logging_steps=logging_steps,\n",
    "    log_level=\"info\",\n",
    "    weight_decay=0.01,\n",
    "    lr_scheduler_type='linear',\n",
    "    warmup_steps=600  # Angepasste Anzahl der Warmup-Schritte\n",
    ")\n"
   ]
  },
  {
   "cell_type": "code",
   "execution_count": 59,
   "id": "7bb3a164-bb80-497b-87dd-ce65ac89814e",
   "metadata": {},
   "outputs": [
    {
     "name": "stderr",
     "output_type": "stream",
     "text": [
      "Detected kernel version 5.4.0, which is below the recommended minimum of 5.5.0; this can cause the process to hang. It is recommended to upgrade the kernel to the minimum version or higher.\n"
     ]
    }
   ],
   "source": [
    "trainer = Trainer(\n",
    "    model = model_bert,\n",
    "    args = training_args,\n",
    "    compute_metrics = compute_metrics,\n",
    "    train_dataset=tokenized_dataset[\"train\"],\n",
    "    eval_dataset=tokenized_dataset[\"val\"],\n",
    "    data_collator=data_collator_bert_uncased,\n",
    "    tokenizer=tokenizer_Bert_uncased,\n",
    ")"
   ]
  },
  {
   "cell_type": "code",
   "execution_count": 60,
   "id": "5e6dfa41-3538-41e8-942a-fff016e0967a",
   "metadata": {},
   "outputs": [
    {
     "name": "stderr",
     "output_type": "stream",
     "text": [
      "The following columns in the training set don't have a corresponding argument in `BertForSequenceClassification.forward` and have been ignored: text. If text are not expected by `BertForSequenceClassification.forward`,  you can safely ignore this message.\n",
      "***** Running training *****\n",
      "  Num examples = 108,700\n",
      "  Num Epochs = 3\n",
      "  Instantaneous batch size per device = 16\n",
      "  Total train batch size (w. parallel, distributed & accumulation) = 16\n",
      "  Gradient Accumulation steps = 1\n",
      "  Total optimization steps = 20,382\n",
      "  Number of trainable parameters = 109,483,778\n"
     ]
    },
    {
     "data": {
      "text/html": [
       "\n",
       "    <div>\n",
       "      \n",
       "      <progress value='20382' max='20382' style='width:300px; height:20px; vertical-align: middle;'></progress>\n",
       "      [20382/20382 55:31, Epoch 3/3]\n",
       "    </div>\n",
       "    <table border=\"1\" class=\"dataframe\">\n",
       "  <thead>\n",
       " <tr style=\"text-align: left;\">\n",
       "      <th>Epoch</th>\n",
       "      <th>Training Loss</th>\n",
       "      <th>Validation Loss</th>\n",
       "      <th>Precision</th>\n",
       "      <th>Recall</th>\n",
       "      <th>Acc</th>\n",
       "      <th>F1</th>\n",
       "    </tr>\n",
       "  </thead>\n",
       "  <tbody>\n",
       "    <tr>\n",
       "      <td>1</td>\n",
       "      <td>No log</td>\n",
       "      <td>0.047191</td>\n",
       "      <td>0.988648</td>\n",
       "      <td>0.988356</td>\n",
       "      <td>0.988491</td>\n",
       "      <td>0.988480</td>\n",
       "    </tr>\n",
       "    <tr>\n",
       "      <td>2</td>\n",
       "      <td>0.098700</td>\n",
       "      <td>0.037141</td>\n",
       "      <td>0.992014</td>\n",
       "      <td>0.991916</td>\n",
       "      <td>0.991969</td>\n",
       "      <td>0.991962</td>\n",
       "    </tr>\n",
       "    <tr>\n",
       "      <td>3</td>\n",
       "      <td>0.098700</td>\n",
       "      <td>0.039432</td>\n",
       "      <td>0.993078</td>\n",
       "      <td>0.993005</td>\n",
       "      <td>0.993045</td>\n",
       "      <td>0.993040</td>\n",
       "    </tr>\n",
       "  </tbody>\n",
       "</table><p>"
      ],
      "text/plain": [
       "<IPython.core.display.HTML object>"
      ]
     },
     "metadata": {},
     "output_type": "display_data"
    },
    {
     "name": "stderr",
     "output_type": "stream",
     "text": [
      "Saving model checkpoint to google-bert/bert-base-uncased-finetuned-fake-news/checkpoint-500\n",
      "Configuration saved in google-bert/bert-base-uncased-finetuned-fake-news/checkpoint-500/config.json\n",
      "Model weights saved in google-bert/bert-base-uncased-finetuned-fake-news/checkpoint-500/model.safetensors\n",
      "tokenizer config file saved in google-bert/bert-base-uncased-finetuned-fake-news/checkpoint-500/tokenizer_config.json\n",
      "Special tokens file saved in google-bert/bert-base-uncased-finetuned-fake-news/checkpoint-500/special_tokens_map.json\n",
      "Saving model checkpoint to google-bert/bert-base-uncased-finetuned-fake-news/checkpoint-1000\n",
      "Configuration saved in google-bert/bert-base-uncased-finetuned-fake-news/checkpoint-1000/config.json\n",
      "Model weights saved in google-bert/bert-base-uncased-finetuned-fake-news/checkpoint-1000/model.safetensors\n",
      "tokenizer config file saved in google-bert/bert-base-uncased-finetuned-fake-news/checkpoint-1000/tokenizer_config.json\n",
      "Special tokens file saved in google-bert/bert-base-uncased-finetuned-fake-news/checkpoint-1000/special_tokens_map.json\n",
      "Saving model checkpoint to google-bert/bert-base-uncased-finetuned-fake-news/checkpoint-1500\n",
      "Configuration saved in google-bert/bert-base-uncased-finetuned-fake-news/checkpoint-1500/config.json\n",
      "Model weights saved in google-bert/bert-base-uncased-finetuned-fake-news/checkpoint-1500/model.safetensors\n",
      "tokenizer config file saved in google-bert/bert-base-uncased-finetuned-fake-news/checkpoint-1500/tokenizer_config.json\n",
      "Special tokens file saved in google-bert/bert-base-uncased-finetuned-fake-news/checkpoint-1500/special_tokens_map.json\n",
      "Saving model checkpoint to google-bert/bert-base-uncased-finetuned-fake-news/checkpoint-2000\n",
      "Configuration saved in google-bert/bert-base-uncased-finetuned-fake-news/checkpoint-2000/config.json\n",
      "Model weights saved in google-bert/bert-base-uncased-finetuned-fake-news/checkpoint-2000/model.safetensors\n",
      "tokenizer config file saved in google-bert/bert-base-uncased-finetuned-fake-news/checkpoint-2000/tokenizer_config.json\n",
      "Special tokens file saved in google-bert/bert-base-uncased-finetuned-fake-news/checkpoint-2000/special_tokens_map.json\n",
      "Saving model checkpoint to google-bert/bert-base-uncased-finetuned-fake-news/checkpoint-2500\n",
      "Configuration saved in google-bert/bert-base-uncased-finetuned-fake-news/checkpoint-2500/config.json\n",
      "Model weights saved in google-bert/bert-base-uncased-finetuned-fake-news/checkpoint-2500/model.safetensors\n",
      "tokenizer config file saved in google-bert/bert-base-uncased-finetuned-fake-news/checkpoint-2500/tokenizer_config.json\n",
      "Special tokens file saved in google-bert/bert-base-uncased-finetuned-fake-news/checkpoint-2500/special_tokens_map.json\n",
      "Saving model checkpoint to google-bert/bert-base-uncased-finetuned-fake-news/checkpoint-3000\n",
      "Configuration saved in google-bert/bert-base-uncased-finetuned-fake-news/checkpoint-3000/config.json\n",
      "Model weights saved in google-bert/bert-base-uncased-finetuned-fake-news/checkpoint-3000/model.safetensors\n",
      "tokenizer config file saved in google-bert/bert-base-uncased-finetuned-fake-news/checkpoint-3000/tokenizer_config.json\n",
      "Special tokens file saved in google-bert/bert-base-uncased-finetuned-fake-news/checkpoint-3000/special_tokens_map.json\n",
      "Saving model checkpoint to google-bert/bert-base-uncased-finetuned-fake-news/checkpoint-3500\n",
      "Configuration saved in google-bert/bert-base-uncased-finetuned-fake-news/checkpoint-3500/config.json\n",
      "Model weights saved in google-bert/bert-base-uncased-finetuned-fake-news/checkpoint-3500/model.safetensors\n",
      "tokenizer config file saved in google-bert/bert-base-uncased-finetuned-fake-news/checkpoint-3500/tokenizer_config.json\n",
      "Special tokens file saved in google-bert/bert-base-uncased-finetuned-fake-news/checkpoint-3500/special_tokens_map.json\n",
      "Saving model checkpoint to google-bert/bert-base-uncased-finetuned-fake-news/checkpoint-4000\n",
      "Configuration saved in google-bert/bert-base-uncased-finetuned-fake-news/checkpoint-4000/config.json\n",
      "Model weights saved in google-bert/bert-base-uncased-finetuned-fake-news/checkpoint-4000/model.safetensors\n",
      "tokenizer config file saved in google-bert/bert-base-uncased-finetuned-fake-news/checkpoint-4000/tokenizer_config.json\n",
      "Special tokens file saved in google-bert/bert-base-uncased-finetuned-fake-news/checkpoint-4000/special_tokens_map.json\n",
      "Saving model checkpoint to google-bert/bert-base-uncased-finetuned-fake-news/checkpoint-4500\n",
      "Configuration saved in google-bert/bert-base-uncased-finetuned-fake-news/checkpoint-4500/config.json\n",
      "Model weights saved in google-bert/bert-base-uncased-finetuned-fake-news/checkpoint-4500/model.safetensors\n",
      "tokenizer config file saved in google-bert/bert-base-uncased-finetuned-fake-news/checkpoint-4500/tokenizer_config.json\n",
      "Special tokens file saved in google-bert/bert-base-uncased-finetuned-fake-news/checkpoint-4500/special_tokens_map.json\n",
      "Saving model checkpoint to google-bert/bert-base-uncased-finetuned-fake-news/checkpoint-5000\n",
      "Configuration saved in google-bert/bert-base-uncased-finetuned-fake-news/checkpoint-5000/config.json\n",
      "Model weights saved in google-bert/bert-base-uncased-finetuned-fake-news/checkpoint-5000/model.safetensors\n",
      "tokenizer config file saved in google-bert/bert-base-uncased-finetuned-fake-news/checkpoint-5000/tokenizer_config.json\n",
      "Special tokens file saved in google-bert/bert-base-uncased-finetuned-fake-news/checkpoint-5000/special_tokens_map.json\n",
      "Saving model checkpoint to google-bert/bert-base-uncased-finetuned-fake-news/checkpoint-5500\n",
      "Configuration saved in google-bert/bert-base-uncased-finetuned-fake-news/checkpoint-5500/config.json\n",
      "Model weights saved in google-bert/bert-base-uncased-finetuned-fake-news/checkpoint-5500/model.safetensors\n",
      "tokenizer config file saved in google-bert/bert-base-uncased-finetuned-fake-news/checkpoint-5500/tokenizer_config.json\n",
      "Special tokens file saved in google-bert/bert-base-uncased-finetuned-fake-news/checkpoint-5500/special_tokens_map.json\n",
      "Saving model checkpoint to google-bert/bert-base-uncased-finetuned-fake-news/checkpoint-6000\n",
      "Configuration saved in google-bert/bert-base-uncased-finetuned-fake-news/checkpoint-6000/config.json\n",
      "Model weights saved in google-bert/bert-base-uncased-finetuned-fake-news/checkpoint-6000/model.safetensors\n",
      "tokenizer config file saved in google-bert/bert-base-uncased-finetuned-fake-news/checkpoint-6000/tokenizer_config.json\n",
      "Special tokens file saved in google-bert/bert-base-uncased-finetuned-fake-news/checkpoint-6000/special_tokens_map.json\n",
      "Saving model checkpoint to google-bert/bert-base-uncased-finetuned-fake-news/checkpoint-6500\n",
      "Configuration saved in google-bert/bert-base-uncased-finetuned-fake-news/checkpoint-6500/config.json\n",
      "Model weights saved in google-bert/bert-base-uncased-finetuned-fake-news/checkpoint-6500/model.safetensors\n",
      "tokenizer config file saved in google-bert/bert-base-uncased-finetuned-fake-news/checkpoint-6500/tokenizer_config.json\n",
      "Special tokens file saved in google-bert/bert-base-uncased-finetuned-fake-news/checkpoint-6500/special_tokens_map.json\n",
      "The following columns in the evaluation set don't have a corresponding argument in `BertForSequenceClassification.forward` and have been ignored: text. If text are not expected by `BertForSequenceClassification.forward`,  you can safely ignore this message.\n",
      "***** Running Evaluation *****\n",
      "  Num examples = 12078\n",
      "  Batch size = 16\n",
      "Saving model checkpoint to google-bert/bert-base-uncased-finetuned-fake-news/checkpoint-7000\n",
      "Configuration saved in google-bert/bert-base-uncased-finetuned-fake-news/checkpoint-7000/config.json\n",
      "Model weights saved in google-bert/bert-base-uncased-finetuned-fake-news/checkpoint-7000/model.safetensors\n",
      "tokenizer config file saved in google-bert/bert-base-uncased-finetuned-fake-news/checkpoint-7000/tokenizer_config.json\n",
      "Special tokens file saved in google-bert/bert-base-uncased-finetuned-fake-news/checkpoint-7000/special_tokens_map.json\n",
      "Saving model checkpoint to google-bert/bert-base-uncased-finetuned-fake-news/checkpoint-7500\n",
      "Configuration saved in google-bert/bert-base-uncased-finetuned-fake-news/checkpoint-7500/config.json\n",
      "Model weights saved in google-bert/bert-base-uncased-finetuned-fake-news/checkpoint-7500/model.safetensors\n",
      "tokenizer config file saved in google-bert/bert-base-uncased-finetuned-fake-news/checkpoint-7500/tokenizer_config.json\n",
      "Special tokens file saved in google-bert/bert-base-uncased-finetuned-fake-news/checkpoint-7500/special_tokens_map.json\n",
      "Saving model checkpoint to google-bert/bert-base-uncased-finetuned-fake-news/checkpoint-8000\n",
      "Configuration saved in google-bert/bert-base-uncased-finetuned-fake-news/checkpoint-8000/config.json\n",
      "Model weights saved in google-bert/bert-base-uncased-finetuned-fake-news/checkpoint-8000/model.safetensors\n",
      "tokenizer config file saved in google-bert/bert-base-uncased-finetuned-fake-news/checkpoint-8000/tokenizer_config.json\n",
      "Special tokens file saved in google-bert/bert-base-uncased-finetuned-fake-news/checkpoint-8000/special_tokens_map.json\n",
      "Saving model checkpoint to google-bert/bert-base-uncased-finetuned-fake-news/checkpoint-8500\n",
      "Configuration saved in google-bert/bert-base-uncased-finetuned-fake-news/checkpoint-8500/config.json\n",
      "Model weights saved in google-bert/bert-base-uncased-finetuned-fake-news/checkpoint-8500/model.safetensors\n",
      "tokenizer config file saved in google-bert/bert-base-uncased-finetuned-fake-news/checkpoint-8500/tokenizer_config.json\n",
      "Special tokens file saved in google-bert/bert-base-uncased-finetuned-fake-news/checkpoint-8500/special_tokens_map.json\n",
      "Saving model checkpoint to google-bert/bert-base-uncased-finetuned-fake-news/checkpoint-9000\n",
      "Configuration saved in google-bert/bert-base-uncased-finetuned-fake-news/checkpoint-9000/config.json\n",
      "Model weights saved in google-bert/bert-base-uncased-finetuned-fake-news/checkpoint-9000/model.safetensors\n",
      "tokenizer config file saved in google-bert/bert-base-uncased-finetuned-fake-news/checkpoint-9000/tokenizer_config.json\n",
      "Special tokens file saved in google-bert/bert-base-uncased-finetuned-fake-news/checkpoint-9000/special_tokens_map.json\n",
      "Saving model checkpoint to google-bert/bert-base-uncased-finetuned-fake-news/checkpoint-9500\n",
      "Configuration saved in google-bert/bert-base-uncased-finetuned-fake-news/checkpoint-9500/config.json\n",
      "Model weights saved in google-bert/bert-base-uncased-finetuned-fake-news/checkpoint-9500/model.safetensors\n",
      "tokenizer config file saved in google-bert/bert-base-uncased-finetuned-fake-news/checkpoint-9500/tokenizer_config.json\n",
      "Special tokens file saved in google-bert/bert-base-uncased-finetuned-fake-news/checkpoint-9500/special_tokens_map.json\n",
      "Saving model checkpoint to google-bert/bert-base-uncased-finetuned-fake-news/checkpoint-10000\n",
      "Configuration saved in google-bert/bert-base-uncased-finetuned-fake-news/checkpoint-10000/config.json\n",
      "Model weights saved in google-bert/bert-base-uncased-finetuned-fake-news/checkpoint-10000/model.safetensors\n",
      "tokenizer config file saved in google-bert/bert-base-uncased-finetuned-fake-news/checkpoint-10000/tokenizer_config.json\n",
      "Special tokens file saved in google-bert/bert-base-uncased-finetuned-fake-news/checkpoint-10000/special_tokens_map.json\n",
      "Saving model checkpoint to google-bert/bert-base-uncased-finetuned-fake-news/checkpoint-10500\n",
      "Configuration saved in google-bert/bert-base-uncased-finetuned-fake-news/checkpoint-10500/config.json\n",
      "Model weights saved in google-bert/bert-base-uncased-finetuned-fake-news/checkpoint-10500/model.safetensors\n",
      "tokenizer config file saved in google-bert/bert-base-uncased-finetuned-fake-news/checkpoint-10500/tokenizer_config.json\n",
      "Special tokens file saved in google-bert/bert-base-uncased-finetuned-fake-news/checkpoint-10500/special_tokens_map.json\n",
      "Saving model checkpoint to google-bert/bert-base-uncased-finetuned-fake-news/checkpoint-11000\n",
      "Configuration saved in google-bert/bert-base-uncased-finetuned-fake-news/checkpoint-11000/config.json\n",
      "Model weights saved in google-bert/bert-base-uncased-finetuned-fake-news/checkpoint-11000/model.safetensors\n",
      "tokenizer config file saved in google-bert/bert-base-uncased-finetuned-fake-news/checkpoint-11000/tokenizer_config.json\n",
      "Special tokens file saved in google-bert/bert-base-uncased-finetuned-fake-news/checkpoint-11000/special_tokens_map.json\n",
      "Saving model checkpoint to google-bert/bert-base-uncased-finetuned-fake-news/checkpoint-11500\n",
      "Configuration saved in google-bert/bert-base-uncased-finetuned-fake-news/checkpoint-11500/config.json\n",
      "Model weights saved in google-bert/bert-base-uncased-finetuned-fake-news/checkpoint-11500/model.safetensors\n",
      "tokenizer config file saved in google-bert/bert-base-uncased-finetuned-fake-news/checkpoint-11500/tokenizer_config.json\n",
      "Special tokens file saved in google-bert/bert-base-uncased-finetuned-fake-news/checkpoint-11500/special_tokens_map.json\n",
      "Saving model checkpoint to google-bert/bert-base-uncased-finetuned-fake-news/checkpoint-12000\n",
      "Configuration saved in google-bert/bert-base-uncased-finetuned-fake-news/checkpoint-12000/config.json\n",
      "Model weights saved in google-bert/bert-base-uncased-finetuned-fake-news/checkpoint-12000/model.safetensors\n",
      "tokenizer config file saved in google-bert/bert-base-uncased-finetuned-fake-news/checkpoint-12000/tokenizer_config.json\n",
      "Special tokens file saved in google-bert/bert-base-uncased-finetuned-fake-news/checkpoint-12000/special_tokens_map.json\n",
      "Saving model checkpoint to google-bert/bert-base-uncased-finetuned-fake-news/checkpoint-12500\n",
      "Configuration saved in google-bert/bert-base-uncased-finetuned-fake-news/checkpoint-12500/config.json\n",
      "Model weights saved in google-bert/bert-base-uncased-finetuned-fake-news/checkpoint-12500/model.safetensors\n",
      "tokenizer config file saved in google-bert/bert-base-uncased-finetuned-fake-news/checkpoint-12500/tokenizer_config.json\n",
      "Special tokens file saved in google-bert/bert-base-uncased-finetuned-fake-news/checkpoint-12500/special_tokens_map.json\n",
      "Saving model checkpoint to google-bert/bert-base-uncased-finetuned-fake-news/checkpoint-13000\n",
      "Configuration saved in google-bert/bert-base-uncased-finetuned-fake-news/checkpoint-13000/config.json\n",
      "Model weights saved in google-bert/bert-base-uncased-finetuned-fake-news/checkpoint-13000/model.safetensors\n",
      "tokenizer config file saved in google-bert/bert-base-uncased-finetuned-fake-news/checkpoint-13000/tokenizer_config.json\n",
      "Special tokens file saved in google-bert/bert-base-uncased-finetuned-fake-news/checkpoint-13000/special_tokens_map.json\n",
      "Saving model checkpoint to google-bert/bert-base-uncased-finetuned-fake-news/checkpoint-13500\n",
      "Configuration saved in google-bert/bert-base-uncased-finetuned-fake-news/checkpoint-13500/config.json\n",
      "Model weights saved in google-bert/bert-base-uncased-finetuned-fake-news/checkpoint-13500/model.safetensors\n",
      "tokenizer config file saved in google-bert/bert-base-uncased-finetuned-fake-news/checkpoint-13500/tokenizer_config.json\n",
      "Special tokens file saved in google-bert/bert-base-uncased-finetuned-fake-news/checkpoint-13500/special_tokens_map.json\n",
      "The following columns in the evaluation set don't have a corresponding argument in `BertForSequenceClassification.forward` and have been ignored: text. If text are not expected by `BertForSequenceClassification.forward`,  you can safely ignore this message.\n",
      "***** Running Evaluation *****\n",
      "  Num examples = 12078\n",
      "  Batch size = 16\n",
      "Saving model checkpoint to google-bert/bert-base-uncased-finetuned-fake-news/checkpoint-14000\n",
      "Configuration saved in google-bert/bert-base-uncased-finetuned-fake-news/checkpoint-14000/config.json\n",
      "Model weights saved in google-bert/bert-base-uncased-finetuned-fake-news/checkpoint-14000/model.safetensors\n",
      "tokenizer config file saved in google-bert/bert-base-uncased-finetuned-fake-news/checkpoint-14000/tokenizer_config.json\n",
      "Special tokens file saved in google-bert/bert-base-uncased-finetuned-fake-news/checkpoint-14000/special_tokens_map.json\n",
      "Saving model checkpoint to google-bert/bert-base-uncased-finetuned-fake-news/checkpoint-14500\n",
      "Configuration saved in google-bert/bert-base-uncased-finetuned-fake-news/checkpoint-14500/config.json\n",
      "Model weights saved in google-bert/bert-base-uncased-finetuned-fake-news/checkpoint-14500/model.safetensors\n",
      "tokenizer config file saved in google-bert/bert-base-uncased-finetuned-fake-news/checkpoint-14500/tokenizer_config.json\n",
      "Special tokens file saved in google-bert/bert-base-uncased-finetuned-fake-news/checkpoint-14500/special_tokens_map.json\n",
      "Saving model checkpoint to google-bert/bert-base-uncased-finetuned-fake-news/checkpoint-15000\n",
      "Configuration saved in google-bert/bert-base-uncased-finetuned-fake-news/checkpoint-15000/config.json\n",
      "Model weights saved in google-bert/bert-base-uncased-finetuned-fake-news/checkpoint-15000/model.safetensors\n",
      "tokenizer config file saved in google-bert/bert-base-uncased-finetuned-fake-news/checkpoint-15000/tokenizer_config.json\n",
      "Special tokens file saved in google-bert/bert-base-uncased-finetuned-fake-news/checkpoint-15000/special_tokens_map.json\n",
      "Saving model checkpoint to google-bert/bert-base-uncased-finetuned-fake-news/checkpoint-15500\n",
      "Configuration saved in google-bert/bert-base-uncased-finetuned-fake-news/checkpoint-15500/config.json\n",
      "Model weights saved in google-bert/bert-base-uncased-finetuned-fake-news/checkpoint-15500/model.safetensors\n",
      "tokenizer config file saved in google-bert/bert-base-uncased-finetuned-fake-news/checkpoint-15500/tokenizer_config.json\n",
      "Special tokens file saved in google-bert/bert-base-uncased-finetuned-fake-news/checkpoint-15500/special_tokens_map.json\n",
      "Saving model checkpoint to google-bert/bert-base-uncased-finetuned-fake-news/checkpoint-16000\n",
      "Configuration saved in google-bert/bert-base-uncased-finetuned-fake-news/checkpoint-16000/config.json\n",
      "Model weights saved in google-bert/bert-base-uncased-finetuned-fake-news/checkpoint-16000/model.safetensors\n",
      "tokenizer config file saved in google-bert/bert-base-uncased-finetuned-fake-news/checkpoint-16000/tokenizer_config.json\n",
      "Special tokens file saved in google-bert/bert-base-uncased-finetuned-fake-news/checkpoint-16000/special_tokens_map.json\n",
      "Saving model checkpoint to google-bert/bert-base-uncased-finetuned-fake-news/checkpoint-16500\n",
      "Configuration saved in google-bert/bert-base-uncased-finetuned-fake-news/checkpoint-16500/config.json\n",
      "Model weights saved in google-bert/bert-base-uncased-finetuned-fake-news/checkpoint-16500/model.safetensors\n",
      "tokenizer config file saved in google-bert/bert-base-uncased-finetuned-fake-news/checkpoint-16500/tokenizer_config.json\n",
      "Special tokens file saved in google-bert/bert-base-uncased-finetuned-fake-news/checkpoint-16500/special_tokens_map.json\n",
      "Saving model checkpoint to google-bert/bert-base-uncased-finetuned-fake-news/checkpoint-17000\n",
      "Configuration saved in google-bert/bert-base-uncased-finetuned-fake-news/checkpoint-17000/config.json\n",
      "Model weights saved in google-bert/bert-base-uncased-finetuned-fake-news/checkpoint-17000/model.safetensors\n",
      "tokenizer config file saved in google-bert/bert-base-uncased-finetuned-fake-news/checkpoint-17000/tokenizer_config.json\n",
      "Special tokens file saved in google-bert/bert-base-uncased-finetuned-fake-news/checkpoint-17000/special_tokens_map.json\n",
      "Saving model checkpoint to google-bert/bert-base-uncased-finetuned-fake-news/checkpoint-17500\n",
      "Configuration saved in google-bert/bert-base-uncased-finetuned-fake-news/checkpoint-17500/config.json\n",
      "Model weights saved in google-bert/bert-base-uncased-finetuned-fake-news/checkpoint-17500/model.safetensors\n",
      "tokenizer config file saved in google-bert/bert-base-uncased-finetuned-fake-news/checkpoint-17500/tokenizer_config.json\n",
      "Special tokens file saved in google-bert/bert-base-uncased-finetuned-fake-news/checkpoint-17500/special_tokens_map.json\n",
      "Saving model checkpoint to google-bert/bert-base-uncased-finetuned-fake-news/checkpoint-18000\n",
      "Configuration saved in google-bert/bert-base-uncased-finetuned-fake-news/checkpoint-18000/config.json\n",
      "Model weights saved in google-bert/bert-base-uncased-finetuned-fake-news/checkpoint-18000/model.safetensors\n",
      "tokenizer config file saved in google-bert/bert-base-uncased-finetuned-fake-news/checkpoint-18000/tokenizer_config.json\n",
      "Special tokens file saved in google-bert/bert-base-uncased-finetuned-fake-news/checkpoint-18000/special_tokens_map.json\n",
      "Saving model checkpoint to google-bert/bert-base-uncased-finetuned-fake-news/checkpoint-18500\n",
      "Configuration saved in google-bert/bert-base-uncased-finetuned-fake-news/checkpoint-18500/config.json\n",
      "Model weights saved in google-bert/bert-base-uncased-finetuned-fake-news/checkpoint-18500/model.safetensors\n",
      "tokenizer config file saved in google-bert/bert-base-uncased-finetuned-fake-news/checkpoint-18500/tokenizer_config.json\n",
      "Special tokens file saved in google-bert/bert-base-uncased-finetuned-fake-news/checkpoint-18500/special_tokens_map.json\n",
      "Saving model checkpoint to google-bert/bert-base-uncased-finetuned-fake-news/checkpoint-19000\n",
      "Configuration saved in google-bert/bert-base-uncased-finetuned-fake-news/checkpoint-19000/config.json\n",
      "Model weights saved in google-bert/bert-base-uncased-finetuned-fake-news/checkpoint-19000/model.safetensors\n",
      "tokenizer config file saved in google-bert/bert-base-uncased-finetuned-fake-news/checkpoint-19000/tokenizer_config.json\n",
      "Special tokens file saved in google-bert/bert-base-uncased-finetuned-fake-news/checkpoint-19000/special_tokens_map.json\n",
      "Saving model checkpoint to google-bert/bert-base-uncased-finetuned-fake-news/checkpoint-19500\n",
      "Configuration saved in google-bert/bert-base-uncased-finetuned-fake-news/checkpoint-19500/config.json\n",
      "Model weights saved in google-bert/bert-base-uncased-finetuned-fake-news/checkpoint-19500/model.safetensors\n",
      "tokenizer config file saved in google-bert/bert-base-uncased-finetuned-fake-news/checkpoint-19500/tokenizer_config.json\n",
      "Special tokens file saved in google-bert/bert-base-uncased-finetuned-fake-news/checkpoint-19500/special_tokens_map.json\n",
      "Saving model checkpoint to google-bert/bert-base-uncased-finetuned-fake-news/checkpoint-20000\n",
      "Configuration saved in google-bert/bert-base-uncased-finetuned-fake-news/checkpoint-20000/config.json\n",
      "Model weights saved in google-bert/bert-base-uncased-finetuned-fake-news/checkpoint-20000/model.safetensors\n",
      "tokenizer config file saved in google-bert/bert-base-uncased-finetuned-fake-news/checkpoint-20000/tokenizer_config.json\n",
      "Special tokens file saved in google-bert/bert-base-uncased-finetuned-fake-news/checkpoint-20000/special_tokens_map.json\n",
      "The following columns in the evaluation set don't have a corresponding argument in `BertForSequenceClassification.forward` and have been ignored: text. If text are not expected by `BertForSequenceClassification.forward`,  you can safely ignore this message.\n",
      "***** Running Evaluation *****\n",
      "  Num examples = 12078\n",
      "  Batch size = 16\n",
      "\n",
      "\n",
      "Training completed. Do not forget to share your model on huggingface.co/models =)\n",
      "\n",
      "\n"
     ]
    },
    {
     "data": {
      "text/plain": [
       "TrainOutput(global_step=20382, training_loss=0.0697503717359038, metrics={'train_runtime': 3331.2528, 'train_samples_per_second': 97.891, 'train_steps_per_second': 6.118, 'total_flos': 1.740091336844232e+16, 'train_loss': 0.0697503717359038, 'epoch': 3.0})"
      ]
     },
     "execution_count": 60,
     "metadata": {},
     "output_type": "execute_result"
    }
   ],
   "source": [
    "trainer.train()"
   ]
  },
  {
   "cell_type": "code",
   "execution_count": 61,
   "id": "f95c360d-0eef-4010-80be-b0593ac5efe7",
   "metadata": {},
   "outputs": [
    {
     "name": "stderr",
     "output_type": "stream",
     "text": [
      "The following columns in the evaluation set don't have a corresponding argument in `BertForSequenceClassification.forward` and have been ignored: text. If text are not expected by `BertForSequenceClassification.forward`,  you can safely ignore this message.\n",
      "***** Running Evaluation *****\n",
      "  Num examples = 13420\n",
      "  Batch size = 16\n"
     ]
    },
    {
     "data": {
      "text/html": [
       "\n",
       "    <div>\n",
       "      \n",
       "      <progress value='1678' max='839' style='width:300px; height:20px; vertical-align: middle;'></progress>\n",
       "      [839/839 06:28]\n",
       "    </div>\n",
       "    "
      ],
      "text/plain": [
       "<IPython.core.display.HTML object>"
      ]
     },
     "metadata": {},
     "output_type": "display_data"
    },
    {
     "data": {
      "text/plain": [
       "{'eval_loss': 0.04421412944793701,\n",
       " 'eval_precision': 0.9926442344485382,\n",
       " 'eval_recall': 0.9925928500764905,\n",
       " 'eval_acc': 0.9926229508196721,\n",
       " 'eval_f1': 0.9926176087883761,\n",
       " 'eval_runtime': 29.944,\n",
       " 'eval_samples_per_second': 448.17,\n",
       " 'eval_steps_per_second': 28.019,\n",
       " 'epoch': 3.0}"
      ]
     },
     "execution_count": 61,
     "metadata": {},
     "output_type": "execute_result"
    }
   ],
   "source": [
    "trainer.evaluate(eval_dataset=tokenized_dataset['test'])"
   ]
  },
  {
   "cell_type": "markdown",
   "id": "bbf8bc0e-b4ae-47e1-adec-7cd545f974e8",
   "metadata": {},
   "source": [
    "#### Evaluation"
   ]
  },
  {
   "cell_type": "markdown",
   "id": "641bce86-c248-4f84-9609-387b3e0f172d",
   "metadata": {},
   "source": [
    "The model shows outstanding performance in terms of precision (99.26%), recall (99.26%), accuracy (99.26%) and F1-score (99.26%), indicating excellent classification ability. The low evaluation loss rate of 4.4% shows that the model generalises effectively and makes few errors.\n",
    "The high values for precision and recall indicate that the model is both good at correctly identifying positive cases and makes very few false positive and negative predictions. This is confirmed by the high F1 score, which represents a balanced relationship between precision and recall.\n",
    "\n",
    "The evaluation efficiency, measured in terms of runtime and processing rates, shows that the model can handle large amounts of data quickly and effectively. This makes it particularly suitable for applications where both accuracy and processing speed are important.\n"
   ]
  },
  {
   "cell_type": "markdown",
   "id": "7a55a4e9-b5d6-47c6-a87c-0c192714d3e7",
   "metadata": {},
   "source": [
    "### Summary"
   ]
  },
  {
   "cell_type": "markdown",
   "id": "93cfdc31-42c8-470a-a31f-126be1c9d54a",
   "metadata": {},
   "source": [
    "The two Fine-tuned models are suitable for use in the classification of fake news in tweets. However, given their high performance, it can be assumed that other subject areas are more difficult to classify. In order to deliver better generalised results in the future, it will be necessary to employ alternative approaches."
   ]
  }
 ],
 "metadata": {
  "kernelspec": {
   "display_name": "Python 3 (ipykernel)",
   "language": "python",
   "name": "python3"
  },
  "language_info": {
   "codemirror_mode": {
    "name": "ipython",
    "version": 3
   },
   "file_extension": ".py",
   "mimetype": "text/x-python",
   "name": "python",
   "nbconvert_exporter": "python",
   "pygments_lexer": "ipython3",
   "version": "3.9.13"
  }
 },
 "nbformat": 4,
 "nbformat_minor": 5
}
